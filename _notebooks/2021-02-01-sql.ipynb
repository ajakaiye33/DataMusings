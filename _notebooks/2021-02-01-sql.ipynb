{
 "cells": [
  {
   "cell_type": "markdown",
   "metadata": {},
   "source": [
    "# Manipulating,Querying,Defining and Controlling RDBMS with Python\n",
    "> Using the Python to effect SQL Statement\n",
    "- branch:master\n",
    "- badges:true\n",
    "- comments:false\n",
    "- categories: [jupyter]"
   ]
  },
  {
   "cell_type": "markdown",
   "metadata": {},
   "source": [
    "## Introduction"
   ]
  },
  {
   "cell_type": "markdown",
   "metadata": {},
   "source": [
    "I have heard, read, and even admonished that ones training is incomplete without the mastery of SQL(sequel), the ubiquitous database language as a burgeoning data scientist. As much as I share the veracity of the ubiquitousness of SQL and the need to master it, I have equally had my share of frustration and \"obstacles\" in my attempt at understanding this language.\n",
    "\n",
    "I suspect you would be curious to know the frustration I'm talking about. In my opinion, the most prominent is the environment, yes, setting up the environment for learning, practising and writing SQL statements. From the last time I checked, you must go through the maze of downloading and installing a database engine, and for your information, you must equally consider the type of database as there are several.\n",
    "\n",
    "I have encountered the ORACLE database, SQLite, MySQL, MS SQL server as I learn SQL and database in general. However, the most interesting thing is that these databases can be fairly manipulated controlled and queried with just a single language: SQL.Howbeit with slight variation depending on the type of database. Thus learning and mastering the SQL language can not be overemphasized.\n",
    "\n",
    "Therefore my joy and excitement knew no bounds when I recently discovered that I could write SQL statements to control, manipulate, define and query a database with my python language! Of course, this discovery drastically changed my perception of learning SQL. It became an experience I enjoyed rather than endured. Thus, this post summarises how python can write SQL statements and control databases, especially the SQLite database."
   ]
  },
  {
   "cell_type": "markdown",
   "metadata": {},
   "source": [
    "## RDBMS and SQL"
   ]
  },
  {
   "cell_type": "markdown",
   "metadata": {},
   "source": [
    "Relation Database Management System-RDBMS is a software use to manage data on physical hard disk built based on Codd's relational model. Its structure in three forms:\n",
    "\n",
    "- Storage Engine\n",
    "- Query Engine\n",
    "- Log Management"
   ]
  },
  {
   "cell_type": "markdown",
   "metadata": {},
   "source": [
    "### Structure of RDBMS"
   ]
  },
  {
   "cell_type": "markdown",
   "metadata": {},
   "source": [
    "#### Storage engine\n",
    "\n",
    "Is that part of the RDBMS responsible for storing data and retrieving data in an efficient way.\n"
   ]
  },
  {
   "cell_type": "markdown",
   "metadata": {},
   "source": [
    "#### Query engine\n",
    "This is that part of RDBMS responsible for creating, manipulating and querying data objects. Some functions carried out under here are:\n",
    "\n",
    "- create and delete columns\n",
    "- create ,delete, update rows e.t.c"
   ]
  },
  {
   "cell_type": "markdown",
   "metadata": {},
   "source": [
    "#### Log management\n",
    "This part creates and maintain the logs"
   ]
  },
  {
   "cell_type": "markdown",
   "metadata": {},
   "source": [
    "## SQL\n",
    "Is a domain-specific language originally designed based on E.F. Codd's relational model which is widely used in today's databases to define,insert,manipulate and retrieve data from them.\n",
    "It can be sub-divided as follows:\n",
    "\n",
    "- Data Definition Language(DDL)\n",
    "- Data Manipulation Language(DML)\n",
    "- Data Query Language(DQL)\n",
    "- Data Control Language(DCL)\n"
   ]
  },
  {
   "cell_type": "markdown",
   "metadata": {},
   "source": [
    "### DDL\n",
    "\n",
    "This is where we define our data structure in SQL. Some DDL statements are:\n",
    "\n",
    "- CREATE TABLE\n",
    "- DROP TABLE\n",
    "- ALTER TABLE"
   ]
  },
  {
   "cell_type": "markdown",
   "metadata": {},
   "source": [
    "### DML\n",
    "This the part of SQL that enable us to insert, delete or update a certain data point(a row) in a previously defined data object(a table)\n",
    "It has statements like:\n",
    "\n",
    "- INSERT INTO\n",
    "- DELETE FROM\n",
    "- UPDATE\n"
   ]
  },
  {
   "cell_type": "markdown",
   "metadata": {},
   "source": [
    "### DQL\n",
    "This part of SQL enable us to query the data created with DDL ,inserted using DML.\n",
    "Under here we also encounter some terms like foreign keys, primary key, index joins e.t.c\n",
    "Its common statement is:\n",
    "\n",
    "- SELECT"
   ]
  },
  {
   "cell_type": "markdown",
   "metadata": {},
   "source": [
    "## Relationships in RDBMS\n",
    "There are one or more columns in a table that will have unique values for each row. This is called `primary key`. However  a primary key of a table can be referenced in another table to create a relationship.This columns of reference is called foreign key.\n",
    "Relationship can be:\n",
    "\n",
    "- 1:1 each row of the second table is uniquely related to one row of the first table\n",
    "- 1:N\n",
    "- 1:M"
   ]
  },
  {
   "cell_type": "markdown",
   "metadata": {},
   "source": [
    "## Using RDBMS- MySQL/PostgreSQL/SQLite\n",
    "\n",
    "- write some SQL statements\n",
    "- Connect to SQLite Database with python"
   ]
  },
  {
   "cell_type": "markdown",
   "metadata": {},
   "source": [
    "### Ex 8.01 Connecting to a Database in SQLite"
   ]
  },
  {
   "cell_type": "code",
   "execution_count": 1,
   "metadata": {},
   "outputs": [],
   "source": [
    "import sqlite3"
   ]
  },
  {
   "cell_type": "code",
   "execution_count": 2,
   "metadata": {},
   "outputs": [],
   "source": [
    "#use the connection function to connect\n",
    "conn = sqlite3.connect('./lesson.db')"
   ]
  },
  {
   "cell_type": "code",
   "execution_count": 3,
   "metadata": {},
   "outputs": [],
   "source": [
    "#close the connection\n",
    "conn.close()"
   ]
  },
  {
   "cell_type": "code",
   "execution_count": 4,
   "metadata": {},
   "outputs": [],
   "source": [
    "# using the with statement\n",
    "with sqlite3.connect('./lesson.db') as conn:\n",
    "    pass"
   ]
  },
  {
   "cell_type": "markdown",
   "metadata": {},
   "source": [
    "### Ex 8.02 Using DDL and DML Commands in SQLite"
   ]
  },
  {
   "cell_type": "code",
   "execution_count": 5,
   "metadata": {},
   "outputs": [],
   "source": [
    "cursor = conn.cursor()"
   ]
  },
  {
   "cell_type": "code",
   "execution_count": 6,
   "metadata": {},
   "outputs": [
    {
     "name": "stdout",
     "output_type": "stream",
     "text": [
      "('bob@example.com', 'Bob', 'Codd', '123 Fantansy Lane, Fantasy City', 31)\n",
      "('tom@web.com', 'Tom', 'Fake', '456 Fantasy Lane, Fantasy City', 39)\n"
     ]
    }
   ],
   "source": [
    "#create a table using python\n",
    "cursor.execute(\"CREATE TABLE IF NOT EXISTS user(email text, first_name text, last_name text, address text,\\\n",
    "age integer,PRIMARY KEY(email))\")\n",
    "\n",
    "\n",
    "#insert rows into the database:\n",
    "cursor.execute(\"INSERT INTO user VALUES ('bob@example.com','Bob', 'Codd','123 Fantansy Lane, Fantasy City',31)\")\n",
    "\n",
    "cursor.execute(\"INSERT INTO user VALUES ('tom@web.com','Tom','Fake','456 Fantasy Lane, Fantasy City',39)\")\n",
    "\n",
    "#read data from database\n",
    "rows = cursor.execute('SELECT * FROM user')\n",
    "for row in rows:\n",
    "    print(row)"
   ]
  },
  {
   "cell_type": "markdown",
   "metadata": {},
   "source": [
    "### Reading Data from a Database in SQLite\n",
    "\n",
    "- `SELECT` statement is powerful and useful here\n",
    "- `SELECT *` this literally tells the engine to select all columns\n",
    "- `LIMIT` This is use to limit the number of rows to be displayed - (SELECT * FROM  <tablename> LIMIT 50;)\n"
   ]
  },
  {
   "cell_type": "code",
   "execution_count": 7,
   "metadata": {},
   "outputs": [
    {
     "name": "stdout",
     "output_type": "stream",
     "text": [
      "('bob@example.com', 'Bob', 'Codd', '123 Fantansy Lane, Fantasy City', 31)\n",
      "('tom@web.com', 'Tom', 'Fake', '456 Fantasy Lane, Fantasy City', 39)\n"
     ]
    }
   ],
   "source": [
    "# with sqlite3.connect('./lesson.db') as conn:\n",
    "#     cursor = conn.cursor()\n",
    "#     rows = cursor.execute('SELECT * FROM user')\n",
    "#     for row in rows:\n",
    "#         print(row)\n",
    "\n",
    "rows = cursor.execute('SELECT * FROM user')\n",
    "for row in rows:\n",
    "    print(row)"
   ]
  },
  {
   "cell_type": "markdown",
   "metadata": {},
   "source": [
    "### Ex 8.03 Sorting Values That Are Present in the Database\n",
    "\n",
    "- Using `ORFER BY` Statement"
   ]
  },
  {
   "cell_type": "code",
   "execution_count": 8,
   "metadata": {},
   "outputs": [
    {
     "name": "stdout",
     "output_type": "stream",
     "text": [
      "('tom@web.com', 'Tom', 'Fake', '456 Fantasy Lane, Fantasy City', 39)\n",
      "('bob@example.com', 'Bob', 'Codd', '123 Fantansy Lane, Fantasy City', 31)\n"
     ]
    }
   ],
   "source": [
    "rows = cursor.execute(\"SELECT * FROM user ORDER BY age DESC\")\n",
    "for row in rows:\n",
    "    print(row)"
   ]
  },
  {
   "cell_type": "code",
   "execution_count": 9,
   "metadata": {},
   "outputs": [
    {
     "name": "stdout",
     "output_type": "stream",
     "text": [
      "('bob@example.com', 'Bob', 'Codd', '123 Fantansy Lane, Fantasy City', 31)\n",
      "('tom@web.com', 'Tom', 'Fake', '456 Fantasy Lane, Fantasy City', 39)\n"
     ]
    }
   ],
   "source": [
    "# sort by age in ascending order\n",
    "rows_asc = cursor.execute(\"SELECT * FROM user ORDER BY age\")\n",
    "for row in rows_asc:\n",
    "    print(row)\n",
    "    "
   ]
  },
  {
   "cell_type": "markdown",
   "metadata": {},
   "source": [
    "## The ALTER Command\n",
    "\n",
    "- Use to add new columns to an already existing table\n",
    "\n",
    "- However `UPDATE` on the other hand is used to update the value of one or more columns in one or several rows of database"
   ]
  },
  {
   "cell_type": "markdown",
   "metadata": {},
   "source": [
    "### Ex 8.04 Altering the Structure of a table and Updating the New Fields"
   ]
  },
  {
   "cell_type": "code",
   "execution_count": 10,
   "metadata": {},
   "outputs": [],
   "source": [
    "#add another column in the table and fill it with \"null\"\n",
    "\n",
    "cursor.execute(\"ALTER TABLE user ADD COLUMN gender text\")\n",
    "conn.commit()"
   ]
  },
  {
   "cell_type": "code",
   "execution_count": 11,
   "metadata": {},
   "outputs": [],
   "source": [
    "#Uodate all of the values of gender so that they are \"M\"\n",
    "cursor.execute(\"UPDATE user SET gender='M'\")\n",
    "conn.commit()"
   ]
  },
  {
   "cell_type": "code",
   "execution_count": 12,
   "metadata": {},
   "outputs": [
    {
     "name": "stdout",
     "output_type": "stream",
     "text": [
      "('bob@example.com', 'Bob', 'Codd', '123 Fantansy Lane, Fantasy City', 31, 'M')\n",
      "('tom@web.com', 'Tom', 'Fake', '456 Fantasy Lane, Fantasy City', 39, 'M')\n"
     ]
    }
   ],
   "source": [
    "#check the altered table\n",
    "row_alter = cursor.execute(\"SELECT * FROM user ORDER BY age\")\n",
    "for row in row_alter:\n",
    "    print(row)"
   ]
  },
  {
   "cell_type": "markdown",
   "metadata": {},
   "source": [
    "## GROUP BY Clause\n",
    "\n"
   ]
  },
  {
   "cell_type": "markdown",
   "metadata": {},
   "source": [
    "### Ex 8.05 Grouping Values in Tables"
   ]
  },
  {
   "cell_type": "code",
   "execution_count": 13,
   "metadata": {},
   "outputs": [
    {
     "name": "stdout",
     "output_type": "stream",
     "text": [
      "('tom@web.com', 'Tom', 'Fake', '456 Fantasy Lane, Fantasy City', 39, 'M')\n",
      "('shelly@www.com', 'Shelly', 'Milar', '123, Ocean View Lane', 39, 'F')\n",
      "('bob@example.com', 'Bob', 'Codd', '123 Fantansy Lane, Fantasy City', 31, 'M')\n"
     ]
    }
   ],
   "source": [
    "with sqlite3.connect('./lesson.db') as conn:\n",
    "    cursor = conn.cursor()\n",
    "# add a female user into the table\n",
    "cursor.execute(\"INSERT INTO user VALUES('shelly@www.com','Shelly','Milar','123, Ocean View Lane',\\\n",
    "39,'F')\")\n",
    "conn.commit()\n",
    "cursor = conn.cursor()\n",
    "rows = cursor.execute(\"SELECT * FROM user ORDER BY age DESC\")\n",
    "for row in rows:\n",
    "    print(row)"
   ]
  },
  {
   "cell_type": "code",
   "execution_count": null,
   "metadata": {},
   "outputs": [],
   "source": []
  }
 ],
 "metadata": {
  "kernelspec": {
   "display_name": "Python 3",
   "language": "python",
   "name": "python3"
  },
  "language_info": {
   "codemirror_mode": {
    "name": "ipython",
    "version": 3
   },
   "file_extension": ".py",
   "mimetype": "text/x-python",
   "name": "python",
   "nbconvert_exporter": "python",
   "pygments_lexer": "ipython3",
   "version": "3.7.0"
  }
 },
 "nbformat": 4,
 "nbformat_minor": 2
}
