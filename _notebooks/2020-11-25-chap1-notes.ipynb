{
 "cells": [
  {
   "cell_type": "markdown",
   "metadata": {},
   "source": [
    "# Data Wrangling Fundamentals\n",
    "> Data wrangling Exercises Chapter 1\n",
    "- toc:true -branch:master -badges:true\n",
    "- comments:false\n",
    "- categories: [fastpages, jupyter]\n",
    "\n"
   ]
  },
  {
   "cell_type": "markdown",
   "metadata": {},
   "source": [
    "Within the data science ecosystem, there is an overwhelming consensus that over ninety-five per cent of the data science process is data cleaning and wrangling. For such an important aspect of data science, you would expect greater attention, but the reality is that like human nature, we are almost always attracted to the shining parts of things. Consequently, beginners from the very beginning of their sojourn towards the unknown are lead astray. Do not be deceived; data science is data cleaning and data wrangling! As a veritable means of closing the yarning knowledge gap in the data wrangling and cleaning craft, I have decided to extract data-wrangling exercises from different resources. Thus this notebook and subsequent ones would highlight these exercises as well as their real-life application in the field of data science."
   ]
  },
  {
   "cell_type": "code",
   "execution_count": 1,
   "metadata": {},
   "outputs": [],
   "source": [
    "import numpy as np\n",
    "import pandas as pd"
   ]
  },
  {
   "cell_type": "code",
   "execution_count": 2,
   "metadata": {},
   "outputs": [
    {
     "data": {
      "text/plain": [
       "array([[ 0.96693939,  1.95682231,  1.71044694],\n",
       "       [ 0.98359589, -0.54727982,  0.09999907],\n",
       "       [ 0.18117676, -0.43009298, -1.79813572],\n",
       "       [ 0.59418704, -0.6342957 , -0.60254704],\n",
       "       [ 0.87621625,  1.31368179,  0.06375445]])"
      ]
     },
     "execution_count": 2,
     "metadata": {},
     "output_type": "execute_result"
    }
   ],
   "source": [
    "a = np.random.randn(5,3)\n",
    "a"
   ]
  },
  {
   "cell_type": "markdown",
   "metadata": {},
   "source": [
    "### Steps of Data Wrangling\n",
    "- Scraping raw data from multiple sources(including web and database table)\n",
    "- Imputing(replacing missing data using various techniques), formating, and transforming-basically making it ready to be used in the modeling process\n",
    "- Handling read/write errors\n",
    "- Detecting outliers\n",
    "- Performing quick visualizations(plotting) and basic statistical analyses to judge the quality of formatted data"
   ]
  },
  {
   "cell_type": "markdown",
   "metadata": {},
   "source": [
    "### Accessing The List Members  Exercise:1.01\n"
   ]
  },
  {
   "cell_type": "code",
   "execution_count": 3,
   "metadata": {},
   "outputs": [],
   "source": [
    "ssn = list(pd.read_csv('./The-Data-Wrangling-Workshop/chapter01/datasets/ssn.csv'))"
   ]
  },
  {
   "cell_type": "code",
   "execution_count": 4,
   "metadata": {},
   "outputs": [
    {
     "data": {
      "text/plain": [
       "'218-68-9955'"
      ]
     },
     "execution_count": 4,
     "metadata": {},
     "output_type": "execute_result"
    }
   ],
   "source": [
    "# first Element\n",
    "ssn[0]"
   ]
  },
  {
   "cell_type": "code",
   "execution_count": 5,
   "metadata": {},
   "outputs": [
    {
     "data": {
      "text/plain": [
       "'563-93-1393'"
      ]
     },
     "execution_count": 5,
     "metadata": {},
     "output_type": "execute_result"
    }
   ],
   "source": [
    "# the 4th element\n",
    "ssn[3]"
   ]
  },
  {
   "cell_type": "code",
   "execution_count": 6,
   "metadata": {},
   "outputs": [
    {
     "data": {
      "text/plain": [
       "'825-05-4836'"
      ]
     },
     "execution_count": 6,
     "metadata": {},
     "output_type": "execute_result"
    }
   ],
   "source": [
    "# length of the list\n",
    "ssn[len(ssn)- 1]"
   ]
  },
  {
   "cell_type": "code",
   "execution_count": 7,
   "metadata": {},
   "outputs": [
    {
     "data": {
      "text/plain": [
       "'825-05-4836'"
      ]
     },
     "execution_count": 7,
     "metadata": {},
     "output_type": "execute_result"
    }
   ],
   "source": [
    "ssn[-1]"
   ]
  },
  {
   "cell_type": "code",
   "execution_count": 8,
   "metadata": {},
   "outputs": [
    {
     "data": {
      "text/plain": [
       "['218-68-9955', '165-73-3124', '432-47-4043']"
      ]
     },
     "execution_count": 8,
     "metadata": {},
     "output_type": "execute_result"
    }
   ],
   "source": [
    "# first three element\n",
    "ssn[:3]"
   ]
  },
  {
   "cell_type": "code",
   "execution_count": 9,
   "metadata": {},
   "outputs": [
    {
     "data": {
      "text/plain": [
       "['726-13-1007', '825-05-4836']"
      ]
     },
     "execution_count": 9,
     "metadata": {},
     "output_type": "execute_result"
    }
   ],
   "source": [
    "#last two element\n",
    "ssn[-2:]"
   ]
  },
  {
   "cell_type": "code",
   "execution_count": 10,
   "metadata": {},
   "outputs": [
    {
     "data": {
      "text/plain": [
       "['218-68-9955',\n",
       " '165-73-3124',\n",
       " '432-47-4043',\n",
       " '563-93-1393',\n",
       " '153-93-3401',\n",
       " '670-09-7369',\n",
       " '123-05-9652',\n",
       " '812-13-2476']"
      ]
     },
     "execution_count": 10,
     "metadata": {},
     "output_type": "execute_result"
    }
   ],
   "source": [
    "# first two element with backward indices\n",
    "ssn[:-2]"
   ]
  },
  {
   "cell_type": "code",
   "execution_count": 11,
   "metadata": {},
   "outputs": [
    {
     "data": {
      "text/plain": [
       "['825-05-4836',\n",
       " '726-13-1007',\n",
       " '812-13-2476',\n",
       " '123-05-9652',\n",
       " '670-09-7369',\n",
       " '153-93-3401',\n",
       " '563-93-1393',\n",
       " '432-47-4043',\n",
       " '165-73-3124',\n",
       " '218-68-9955']"
      ]
     },
     "execution_count": 11,
     "metadata": {},
     "output_type": "execute_result"
    }
   ],
   "source": [
    "#reverse the element in the list\n",
    "ssn[-1::-1]"
   ]
  },
  {
   "cell_type": "code",
   "execution_count": 12,
   "metadata": {},
   "outputs": [
    {
     "data": {
      "text/plain": [
       "['218-68-9955',\n",
       " '165-73-3124',\n",
       " '432-47-4043',\n",
       " '563-93-1393',\n",
       " '153-93-3401',\n",
       " '670-09-7369',\n",
       " '123-05-9652',\n",
       " '812-13-2476',\n",
       " '726-13-1007',\n",
       " '825-05-4836']"
      ]
     },
     "execution_count": 12,
     "metadata": {},
     "output_type": "execute_result"
    }
   ],
   "source": [
    "ssn[:]"
   ]
  },
  {
   "cell_type": "markdown",
   "metadata": {},
   "source": [
    "### Generating and Iterating through a List: 1.02"
   ]
  },
  {
   "cell_type": "code",
   "execution_count": 13,
   "metadata": {},
   "outputs": [
    {
     "data": {
      "text/plain": [
       "['218-68-9955',\n",
       " '165-73-3124',\n",
       " '432-47-4043',\n",
       " '563-93-1393',\n",
       " '153-93-3401',\n",
       " '670-09-7369',\n",
       " '123-05-9652',\n",
       " '812-13-2476',\n",
       " '726-13-1007',\n",
       " '825-05-4836']"
      ]
     },
     "execution_count": 13,
     "metadata": {},
     "output_type": "execute_result"
    }
   ],
   "source": [
    "# Using the append method to iterate over a list and add element unto another list\n",
    "ssn_2 = []\n",
    "for i in ssn:\n",
    "    ssn_2.append(i)\n",
    "ssn_2\n"
   ]
  },
  {
   "cell_type": "code",
   "execution_count": 14,
   "metadata": {},
   "outputs": [
    {
     "data": {
      "text/plain": [
       "['soc: 218-68-9955',\n",
       " 'soc: 165-73-3124',\n",
       " 'soc: 432-47-4043',\n",
       " 'soc: 563-93-1393',\n",
       " 'soc: 153-93-3401',\n",
       " 'soc: 670-09-7369',\n",
       " 'soc: 123-05-9652',\n",
       " 'soc: 812-13-2476',\n",
       " 'soc: 726-13-1007',\n",
       " 'soc: 825-05-4836']"
      ]
     },
     "execution_count": 14,
     "metadata": {},
     "output_type": "execute_result"
    }
   ],
   "source": [
    "# using list comprehension to generate list\n",
    "ssn3 = ['soc: '+ x for x in ssn_2]\n",
    "ssn3"
   ]
  },
  {
   "cell_type": "code",
   "execution_count": 15,
   "metadata": {},
   "outputs": [
    {
     "name": "stdout",
     "output_type": "stream",
     "text": [
      "soc: 218-68-9955\n",
      "soc: 165-73-3124\n",
      "soc: 432-47-4043\n",
      "soc: 563-93-1393\n",
      "soc: 153-93-3401\n",
      "soc: 670-09-7369\n",
      "soc: 123-05-9652\n",
      "soc: 812-13-2476\n",
      "soc: 726-13-1007\n",
      "soc: 825-05-4836\n"
     ]
    }
   ],
   "source": [
    "i = 0\n",
    "while i < len(ssn3):\n",
    "    print(ssn3[i])\n",
    "    i += 1"
   ]
  },
  {
   "cell_type": "code",
   "execution_count": 16,
   "metadata": {},
   "outputs": [
    {
     "data": {
      "text/plain": [
       "['soc: 218-68-9955',\n",
       " 'soc: 165-73-3124',\n",
       " 'soc: 563-93-1393',\n",
       " 'soc: 153-93-3401',\n",
       " 'soc: 123-05-9652',\n",
       " 'soc: 825-05-4836']"
      ]
     },
     "execution_count": 16,
     "metadata": {},
     "output_type": "execute_result"
    }
   ],
   "source": [
    "# search for ssn with 5 in the number\n",
    "numbers = [x for x in ssn3 if '5' in x]\n",
    "numbers"
   ]
  },
  {
   "cell_type": "code",
   "execution_count": 17,
   "metadata": {},
   "outputs": [
    {
     "data": {
      "text/plain": [
       "['102-90-0314',\n",
       " '247-17-2338',\n",
       " '318-22-2760',\n",
       " '218-68-9955',\n",
       " '165-73-3124',\n",
       " '432-47-4043',\n",
       " '563-93-1393',\n",
       " '153-93-3401',\n",
       " '670-09-7369',\n",
       " '123-05-9652',\n",
       " '812-13-2476',\n",
       " '726-13-1007',\n",
       " '825-05-4836']"
      ]
     },
     "execution_count": 17,
     "metadata": {},
     "output_type": "execute_result"
    }
   ],
   "source": [
    "# usign + sign to extend\n",
    "ssn_4 = ['102-90-0314','247-17-2338','318-22-2760']\n",
    "ssn_5 = ssn_4 + ssn\n",
    "ssn_5"
   ]
  },
  {
   "cell_type": "code",
   "execution_count": 18,
   "metadata": {},
   "outputs": [
    {
     "data": {
      "text/plain": [
       "['218-68-9955',\n",
       " '165-73-3124',\n",
       " '432-47-4043',\n",
       " '563-93-1393',\n",
       " '153-93-3401',\n",
       " '670-09-7369',\n",
       " '123-05-9652',\n",
       " '812-13-2476',\n",
       " '726-13-1007',\n",
       " '825-05-4836',\n",
       " '102-90-0314',\n",
       " '247-17-2338',\n",
       " '318-22-2760']"
      ]
     },
     "execution_count": 18,
     "metadata": {},
     "output_type": "execute_result"
    }
   ],
   "source": [
    "# usign the extend method\n",
    "ssn_2.extend(ssn_4)\n",
    "ssn_2"
   ]
  },
  {
   "cell_type": "code",
   "execution_count": 19,
   "metadata": {},
   "outputs": [],
   "source": [
    "# #nested list\n",
    "# for x in ssn_2:\n",
    "#     for y in ssn_5:\n",
    "#         print(str(x) + ',' + str(y))"
   ]
  },
  {
   "cell_type": "markdown",
   "metadata": {},
   "source": [
    "### Iterating Over a List and Checking Membership: 1.03"
   ]
  },
  {
   "cell_type": "code",
   "execution_count": 20,
   "metadata": {},
   "outputs": [
    {
     "data": {
      "text/plain": [
       "['Escalade ',\n",
       " ' X5 M',\n",
       " 'D150',\n",
       " 'Camaro',\n",
       " 'F350',\n",
       " 'Aurora',\n",
       " 'S8',\n",
       " 'E350',\n",
       " 'Tiburon',\n",
       " 'F-Series Super Duty ']"
      ]
     },
     "execution_count": 20,
     "metadata": {},
     "output_type": "execute_result"
    }
   ],
   "source": [
    "car_model = list(pd.read_csv('./The-Data-Wrangling-Workshop/chapter01/datasets/car_models.csv'))\n",
    "car_model"
   ]
  },
  {
   "cell_type": "code",
   "execution_count": 21,
   "metadata": {},
   "outputs": [
    {
     "name": "stdout",
     "output_type": "stream",
     "text": [
      "Escalade \n",
      " X5 M\n",
      "D150\n",
      "Camaro\n",
      "F350\n",
      "Aurora\n",
      "S8\n",
      "E350\n",
      "Tiburon\n",
      "F-Series Super Duty \n"
     ]
    }
   ],
   "source": [
    "# Iterate over a list non-pythonic way\n",
    "list_1 = [x for x in car_model]\n",
    "for i in range(0,len(list_1)):\n",
    "    print(list_1[i])"
   ]
  },
  {
   "cell_type": "code",
   "execution_count": 22,
   "metadata": {},
   "outputs": [
    {
     "name": "stdout",
     "output_type": "stream",
     "text": [
      "Escalade \n",
      " X5 M\n",
      "D150\n",
      "Camaro\n",
      "F350\n",
      "Aurora\n",
      "S8\n",
      "E350\n",
      "Tiburon\n",
      "F-Series Super Duty \n"
     ]
    }
   ],
   "source": [
    "# iterating in a pythonic manner\n",
    "for i in list_1:\n",
    "    print(i)"
   ]
  },
  {
   "cell_type": "code",
   "execution_count": 23,
   "metadata": {},
   "outputs": [
    {
     "data": {
      "text/plain": [
       "(True, False)"
      ]
     },
     "execution_count": 23,
     "metadata": {},
     "output_type": "execute_result"
    }
   ],
   "source": [
    "'D150' in list_1, 'Mustang' in list_1"
   ]
  },
  {
   "cell_type": "markdown",
   "metadata": {},
   "source": [
    "### Sorting A List: Exercise 1.04"
   ]
  },
  {
   "cell_type": "code",
   "execution_count": 24,
   "metadata": {},
   "outputs": [
    {
     "data": {
      "text/plain": [
       "[20, 19, 18, 17, 16, 15, 14, 13, 12, 11, 10, 9, 8, 7, 6, 5, 4, 3, 2, 1, 0]"
      ]
     },
     "execution_count": 24,
     "metadata": {},
     "output_type": "execute_result"
    }
   ],
   "source": [
    "list_1 = [*range(0, 21,1)]\n",
    "list_1.sort(reverse=True)\n",
    "list_1"
   ]
  },
  {
   "cell_type": "code",
   "execution_count": 25,
   "metadata": {},
   "outputs": [
    {
     "data": {
      "text/plain": [
       "[0, 1, 2, 3, 4, 5, 6, 7, 8, 9, 10, 11, 12, 13, 14, 15, 16, 17, 18, 19, 20]"
      ]
     },
     "execution_count": 25,
     "metadata": {},
     "output_type": "execute_result"
    }
   ],
   "source": [
    "list_1.reverse()\n",
    "list_1"
   ]
  },
  {
   "cell_type": "code",
   "execution_count": 26,
   "metadata": {},
   "outputs": [],
   "source": [
    "#"
   ]
  },
  {
   "cell_type": "code",
   "execution_count": 27,
   "metadata": {},
   "outputs": [
    {
     "data": {
      "text/plain": [
       "[0,\n",
       " 1,\n",
       " 4,\n",
       " 9,\n",
       " 16,\n",
       " 25,\n",
       " 36,\n",
       " 49,\n",
       " 64,\n",
       " 81,\n",
       " 100,\n",
       " 121,\n",
       " 144,\n",
       " 169,\n",
       " 196,\n",
       " 225,\n",
       " 256,\n",
       " 289,\n",
       " 324,\n",
       " 361,\n",
       " 400]"
      ]
     },
     "execution_count": 27,
     "metadata": {},
     "output_type": "execute_result"
    }
   ],
   "source": [
    "# List Of Random number\n",
    "list_2 = [ x**2 for x in list_1]\n",
    "list_2"
   ]
  },
  {
   "cell_type": "code",
   "execution_count": 28,
   "metadata": {},
   "outputs": [],
   "source": [
    "from math import log\n",
    "import random"
   ]
  },
  {
   "cell_type": "code",
   "execution_count": 29,
   "metadata": {},
   "outputs": [],
   "source": [
    "list_1a = [random.randint(0,30) for x in range(0,100)]\n"
   ]
  },
  {
   "cell_type": "code",
   "execution_count": 30,
   "metadata": {},
   "outputs": [],
   "source": [
    "# find the sqaure root of each\n",
    "sqrty = [randy**2 for randy in list_1a]\n"
   ]
  },
  {
   "cell_type": "code",
   "execution_count": 31,
   "metadata": {},
   "outputs": [],
   "source": [
    "# log of 1 elements of sqrty\n",
    "log_lst = [log(x + 1, 10) for x in sqrty]\n"
   ]
  },
  {
   "cell_type": "markdown",
   "metadata": {},
   "source": [
    "### Activity 1.01 Handling List"
   ]
  },
  {
   "cell_type": "code",
   "execution_count": 32,
   "metadata": {},
   "outputs": [],
   "source": [
    "# list of 100 random number\n",
    "hundred_rand = [random.randint(0,30) for x in range(0,101)]\n"
   ]
  },
  {
   "cell_type": "code",
   "execution_count": 33,
   "metadata": {},
   "outputs": [],
   "source": [
    "div_three = [x for x in hundred_rand if x % 3==0]\n"
   ]
  },
  {
   "cell_type": "code",
   "execution_count": 34,
   "metadata": {},
   "outputs": [],
   "source": [
    "# difference in length of list\n",
    "diff_len = len(hundred_rand) - len(div_three)"
   ]
  },
  {
   "cell_type": "code",
   "execution_count": 35,
   "metadata": {},
   "outputs": [
    {
     "data": {
      "text/plain": [
       "[61, 70, 62, 62, 73, 70, 60, 66, 59, 72]"
      ]
     },
     "execution_count": 35,
     "metadata": {},
     "output_type": "execute_result"
    }
   ],
   "source": [
    "new_lst = []\n",
    "number_of_experiment = 10\n",
    "for g in range(0, number_of_experiment):\n",
    "    randyx = [random.randint(0,100) for x in range(0,100)]\n",
    "    div_3x = [x for x in randyx if x % 3==0]\n",
    "    diff_len = len(randyx) - len(div_3x)\n",
    "    new_lst.append(diff_len)\n",
    "new_lst\n",
    "    "
   ]
  },
  {
   "cell_type": "code",
   "execution_count": 36,
   "metadata": {},
   "outputs": [],
   "source": [
    "from scipy import mean"
   ]
  },
  {
   "cell_type": "code",
   "execution_count": 37,
   "metadata": {},
   "outputs": [
    {
     "name": "stderr",
     "output_type": "stream",
     "text": [
      "/Users/user/.local/share/virtualenvs/learn_scraping-rlWr7x-t/lib/python3.7/site-packages/ipykernel_launcher.py:2: DeprecationWarning: scipy.mean is deprecated and will be removed in SciPy 2.0.0, use numpy.mean instead\n",
      "  \n"
     ]
    },
    {
     "data": {
      "text/plain": [
       "65.5"
      ]
     },
     "execution_count": 37,
     "metadata": {},
     "output_type": "execute_result"
    }
   ],
   "source": [
    "#average or mean\n",
    "the_mean = mean(new_lst)\n",
    "the_mean\n"
   ]
  },
  {
   "cell_type": "markdown",
   "metadata": {},
   "source": [
    "### Introduction to Sets\n"
   ]
  },
  {
   "cell_type": "code",
   "execution_count": 38,
   "metadata": {},
   "outputs": [
    {
     "data": {
      "text/plain": [
       "[0,\n",
       " 1,\n",
       " 3,\n",
       " 4,\n",
       " 5,\n",
       " 6,\n",
       " 7,\n",
       " 8,\n",
       " 9,\n",
       " 10,\n",
       " 11,\n",
       " 12,\n",
       " 13,\n",
       " 14,\n",
       " 15,\n",
       " 16,\n",
       " 17,\n",
       " 18,\n",
       " 19,\n",
       " 20,\n",
       " 21,\n",
       " 22,\n",
       " 23,\n",
       " 24,\n",
       " 25,\n",
       " 26,\n",
       " 27,\n",
       " 28,\n",
       " 30]"
      ]
     },
     "execution_count": 38,
     "metadata": {},
     "output_type": "execute_result"
    }
   ],
   "source": [
    "list_12 = list(set(hundred_rand))\n",
    "list_12\n"
   ]
  },
  {
   "cell_type": "markdown",
   "metadata": {},
   "source": [
    "### Union and Intersection of Set\n"
   ]
  },
  {
   "cell_type": "code",
   "execution_count": 39,
   "metadata": {},
   "outputs": [
    {
     "data": {
      "text/plain": [
       "{'Apple', 'Banana', 'Mango', 'Orange', 'Peach', 'Pear'}"
      ]
     },
     "execution_count": 39,
     "metadata": {},
     "output_type": "execute_result"
    }
   ],
   "source": [
    "set_1 = {'Apple', 'Orange', 'Banana'}\n",
    "set_2 = {'Pear', 'Peach', 'Mango', 'Banana'}\n",
    "#the union of two set is ..\n",
    "set_1 | set_2"
   ]
  },
  {
   "cell_type": "code",
   "execution_count": 40,
   "metadata": {},
   "outputs": [
    {
     "data": {
      "text/plain": [
       "{'Banana'}"
      ]
     },
     "execution_count": 40,
     "metadata": {},
     "output_type": "execute_result"
    }
   ],
   "source": [
    "# intersection of two sets\n",
    "set_1 & set_2"
   ]
  },
  {
   "cell_type": "markdown",
   "metadata": {},
   "source": [
    "### Creating Null set\n"
   ]
  },
  {
   "cell_type": "code",
   "execution_count": 41,
   "metadata": {},
   "outputs": [
    {
     "data": {
      "text/plain": [
       "set()"
      ]
     },
     "execution_count": 41,
     "metadata": {},
     "output_type": "execute_result"
    }
   ],
   "source": [
    "# to create null set\n",
    "non_set = set({})\n",
    "non_set"
   ]
  },
  {
   "cell_type": "markdown",
   "metadata": {},
   "source": [
    "### Dictionary "
   ]
  },
  {
   "cell_type": "code",
   "execution_count": 42,
   "metadata": {},
   "outputs": [],
   "source": [
    "dict_1 = {'key1':'value1', 'key2':'value2'}\n"
   ]
  },
  {
   "cell_type": "markdown",
   "metadata": {},
   "source": [
    "### Accessing and Setting Values in a dictionary"
   ]
  },
  {
   "cell_type": "markdown",
   "metadata": {},
   "source": [
    "### Revisiting the unique Valued List Problem\n",
    "- `dict()` `fromkeys()` and `keys()`"
   ]
  },
  {
   "cell_type": "code",
   "execution_count": 43,
   "metadata": {},
   "outputs": [],
   "source": [
    "# generate a random list with duplicate values\n",
    "list_rand = [random.randint(0,30) for x in range(0,100)]\n",
    "\n"
   ]
  },
  {
   "cell_type": "code",
   "execution_count": 44,
   "metadata": {},
   "outputs": [
    {
     "data": {
      "text/plain": [
       "[5,\n",
       " 22,\n",
       " 29,\n",
       " 19,\n",
       " 20,\n",
       " 3,\n",
       " 28,\n",
       " 24,\n",
       " 13,\n",
       " 7,\n",
       " 8,\n",
       " 6,\n",
       " 16,\n",
       " 12,\n",
       " 30,\n",
       " 18,\n",
       " 15,\n",
       " 1,\n",
       " 0,\n",
       " 9,\n",
       " 23,\n",
       " 2,\n",
       " 21,\n",
       " 17,\n",
       " 14,\n",
       " 11,\n",
       " 27,\n",
       " 25,\n",
       " 4,\n",
       " 26,\n",
       " 10]"
      ]
     },
     "execution_count": 44,
     "metadata": {},
     "output_type": "execute_result"
    }
   ],
   "source": [
    "# Create a unique valid list from list_rand\n",
    "list(dict.fromkeys(list_rand).keys())"
   ]
  },
  {
   "cell_type": "markdown",
   "metadata": {},
   "source": [
    "### Deleting a Value From Dict ex.1.09\n",
    "Involves deleting a value from dict using the del method"
   ]
  },
  {
   "cell_type": "code",
   "execution_count": 45,
   "metadata": {},
   "outputs": [
    {
     "data": {
      "text/plain": [
       "{'key1': 1,\n",
       " 'key2': ['list_element1', 34],\n",
       " 'key3': 'value3',\n",
       " 'key4': {'subkey1': 'v1'},\n",
       " 'key5': 4.5}"
      ]
     },
     "execution_count": 45,
     "metadata": {},
     "output_type": "execute_result"
    }
   ],
   "source": [
    "dict_1 = {\"key1\": 1, \"key2\": [\"list_element1\", 34], \"key3\": \"value3\", \n",
    "\n",
    "          \"key4\": {\"subkey1\": \"v1\"}, \"key5\": 4.5} \n",
    "dict_1 "
   ]
  },
  {
   "cell_type": "code",
   "execution_count": 46,
   "metadata": {},
   "outputs": [
    {
     "data": {
      "text/plain": [
       "{'key1': 1, 'key3': 'value3', 'key4': {'subkey1': 'v1'}, 'key5': 4.5}"
      ]
     },
     "execution_count": 46,
     "metadata": {},
     "output_type": "execute_result"
    }
   ],
   "source": [
    "# use the del function and specifiy the element to be deleted\n",
    "del dict_1['key2']\n",
    "dict_1"
   ]
  },
  {
   "cell_type": "code",
   "execution_count": 47,
   "metadata": {},
   "outputs": [
    {
     "data": {
      "text/plain": [
       "{'key1': 1, 'key5': 4.5}"
      ]
     },
     "execution_count": 47,
     "metadata": {},
     "output_type": "execute_result"
    }
   ],
   "source": [
    "#delete key3 and key4\n",
    "del dict_1['key3']\n",
    "del dict_1['key4']\n",
    "dict_1"
   ]
  },
  {
   "cell_type": "markdown",
   "metadata": {},
   "source": [
    "### Dictionary Comprehension ex 1.10\n",
    "Dictionary comprehension though rarely used but could come handle in the processing of creating important key-value pairs form of data like names of customer and their age, credit card customer and their owners"
   ]
  },
  {
   "cell_type": "code",
   "execution_count": 48,
   "metadata": {},
   "outputs": [
    {
     "data": {
      "text/plain": [
       "{0: 0, 1: 1, 2: 4, 3: 9, 4: 16, 5: 25, 6: 36, 7: 49, 8: 64, 9: 81}"
      ]
     },
     "execution_count": 48,
     "metadata": {},
     "output_type": "execute_result"
    }
   ],
   "source": [
    "list_dict = [x for x in range(0,10)]\n",
    "dict_comp = {x: x**2 for x in list_dict}\n",
    "dict_comp"
   ]
  },
  {
   "cell_type": "code",
   "execution_count": 49,
   "metadata": {},
   "outputs": [
    {
     "data": {
      "text/plain": [
       "{'Tom': 100, 'Dick': 200, 'Harry': 300}"
      ]
     },
     "execution_count": 49,
     "metadata": {},
     "output_type": "execute_result"
    }
   ],
   "source": [
    "#generate a dictionary with using a list\n",
    "## using the dict fuction\n",
    "dict_2 = dict([('Tom',100),('Dick',200),('Harry',300)])\n",
    "dict_2"
   ]
  },
  {
   "cell_type": "code",
   "execution_count": 50,
   "metadata": {},
   "outputs": [
    {
     "data": {
      "text/plain": [
       "{'Tom': 100, 'Dick': 200, 'Harry': 300}"
      ]
     },
     "execution_count": 50,
     "metadata": {},
     "output_type": "execute_result"
    }
   ],
   "source": [
    "# using the dict function to create dictionary\n",
    "dict_3 = dict(Tom=100, Dick=200,Harry=300)\n",
    "dict_3"
   ]
  },
  {
   "cell_type": "markdown",
   "metadata": {},
   "source": [
    "## Tuples\n",
    "- A unique feature of tuple is that of immutability. That is once crested it can not be updated by way of adding or removing from it\n",
    "\n",
    "- tuple consist of values separated by comma "
   ]
  },
  {
   "cell_type": "code",
   "execution_count": 51,
   "metadata": {},
   "outputs": [],
   "source": [
    "tuple_1 = 24,42,2.3456, 'Hello'"
   ]
  },
  {
   "cell_type": "markdown",
   "metadata": {},
   "source": [
    "- the length of the tuple is called **cardinality**"
   ]
  },
  {
   "cell_type": "markdown",
   "metadata": {},
   "source": [
    "### Creating a Tuple with Different Cardinality"
   ]
  },
  {
   "cell_type": "code",
   "execution_count": 52,
   "metadata": {},
   "outputs": [],
   "source": [
    "# creating an empty tuple\n",
    "tuple_1 = ()"
   ]
  },
  {
   "cell_type": "code",
   "execution_count": 53,
   "metadata": {},
   "outputs": [],
   "source": [
    "# tuple with only one value. The trailing comma must follow\n",
    "tuple_1 = 'Hello',"
   ]
  },
  {
   "cell_type": "code",
   "execution_count": 54,
   "metadata": {},
   "outputs": [
    {
     "data": {
      "text/plain": [
       "(('hello', 'there'), 45, 'Sam')"
      ]
     },
     "execution_count": 54,
     "metadata": {},
     "output_type": "execute_result"
    }
   ],
   "source": [
    "# nesting tuple like list\n",
    "tuple_1 = 'hello', 'there'\n",
    "tuple_12 = tuple_1, 45, 'Sam'\n",
    "tuple_12"
   ]
  },
  {
   "cell_type": "code",
   "execution_count": 55,
   "metadata": {},
   "outputs": [],
   "source": [
    "# # the immutability of tuple\n",
    "# tuple_1 = 'Hello', 'World!'\n",
    "# tuple_1[1] = 'Universe'"
   ]
  },
  {
   "cell_type": "code",
   "execution_count": 56,
   "metadata": {},
   "outputs": [
    {
     "data": {
      "text/plain": [
       "'good'"
      ]
     },
     "execution_count": 56,
     "metadata": {},
     "output_type": "execute_result"
    }
   ],
   "source": [
    "# access elements in a tuple\n",
    "tuple_1 = ('good','morning!', 'how','are','you?')\n",
    "tuple_1[0]"
   ]
  },
  {
   "cell_type": "code",
   "execution_count": 57,
   "metadata": {},
   "outputs": [
    {
     "data": {
      "text/plain": [
       "'you?'"
      ]
     },
     "execution_count": 57,
     "metadata": {},
     "output_type": "execute_result"
    }
   ],
   "source": [
    "tuple_1[4]"
   ]
  },
  {
   "cell_type": "markdown",
   "metadata": {},
   "source": [
    "### Unpacking a Tuple"
   ]
  },
  {
   "cell_type": "code",
   "execution_count": 58,
   "metadata": {},
   "outputs": [
    {
     "name": "stdout",
     "output_type": "stream",
     "text": [
      "Hello\n",
      "World\n"
     ]
    }
   ],
   "source": [
    "tuple_1 = 'Hello', 'World'\n",
    "hello, world = tuple_1\n",
    "print(hello)\n",
    "print(world)"
   ]
  },
  {
   "cell_type": "markdown",
   "metadata": {},
   "source": [
    "### Handling Tuple Ex 1.11"
   ]
  },
  {
   "cell_type": "code",
   "execution_count": 59,
   "metadata": {},
   "outputs": [
    {
     "data": {
      "text/plain": [
       "('1', '3', '5')"
      ]
     },
     "execution_count": 59,
     "metadata": {},
     "output_type": "execute_result"
    }
   ],
   "source": [
    "tupleE = '1', '3', '5'\n",
    "tupleE"
   ]
  },
  {
   "cell_type": "code",
   "execution_count": 60,
   "metadata": {},
   "outputs": [
    {
     "name": "stdout",
     "output_type": "stream",
     "text": [
      "1\n",
      "3\n"
     ]
    }
   ],
   "source": [
    "# print variables at 0th and 1st\n",
    "print(tupleE[0])\n",
    "print(tupleE[1])"
   ]
  },
  {
   "cell_type": "markdown",
   "metadata": {},
   "source": [
    "## Strings\n",
    "- An important feature of string is that it's immutable"
   ]
  },
  {
   "cell_type": "markdown",
   "metadata": {},
   "source": [
    "\n",
    "### Accessing String Ex1.12"
   ]
  },
  {
   "cell_type": "code",
   "execution_count": 61,
   "metadata": {},
   "outputs": [
    {
     "data": {
      "text/plain": [
       "'Hello World!'"
      ]
     },
     "execution_count": 61,
     "metadata": {},
     "output_type": "execute_result"
    }
   ],
   "source": [
    "#create a string\n",
    "string_1 = \"Hello World!\"\n",
    "string_1"
   ]
  },
  {
   "cell_type": "code",
   "execution_count": 62,
   "metadata": {},
   "outputs": [
    {
     "data": {
      "text/plain": [
       "'H'"
      ]
     },
     "execution_count": 62,
     "metadata": {},
     "output_type": "execute_result"
    }
   ],
   "source": [
    "# access the first member of the string\n",
    "string_1[0]"
   ]
  },
  {
   "cell_type": "code",
   "execution_count": 63,
   "metadata": {},
   "outputs": [
    {
     "data": {
      "text/plain": [
       "'o'"
      ]
     },
     "execution_count": 63,
     "metadata": {},
     "output_type": "execute_result"
    }
   ],
   "source": [
    "#access the fifth member of the string\n",
    "string_1[4]"
   ]
  },
  {
   "cell_type": "code",
   "execution_count": 64,
   "metadata": {},
   "outputs": [
    {
     "data": {
      "text/plain": [
       "'!'"
      ]
     },
     "execution_count": 64,
     "metadata": {},
     "output_type": "execute_result"
    }
   ],
   "source": [
    "# access the last member of the string\n",
    "string_1[-1]"
   ]
  },
  {
   "cell_type": "markdown",
   "metadata": {},
   "source": [
    "### String Slices Ex 1.13"
   ]
  },
  {
   "cell_type": "code",
   "execution_count": 65,
   "metadata": {},
   "outputs": [
    {
     "data": {
      "text/plain": [
       "'Hello World! I am Learning data wrangling'"
      ]
     },
     "execution_count": 65,
     "metadata": {},
     "output_type": "execute_result"
    }
   ],
   "source": [
    "#create string\n",
    "string_a = \"Hello World! I am Learning data wrangling\"\n",
    "string_a"
   ]
  },
  {
   "cell_type": "code",
   "execution_count": 66,
   "metadata": {},
   "outputs": [
    {
     "data": {
      "text/plain": [
       "'llo Worl'"
      ]
     },
     "execution_count": 66,
     "metadata": {},
     "output_type": "execute_result"
    }
   ],
   "source": [
    "#specifiy the slicing values and slice the sring\n",
    "string_a[2:10]"
   ]
  },
  {
   "cell_type": "code",
   "execution_count": 67,
   "metadata": {},
   "outputs": [
    {
     "data": {
      "text/plain": [
       "'d! I am Learning data wrangling'"
      ]
     },
     "execution_count": 67,
     "metadata": {},
     "output_type": "execute_result"
    }
   ],
   "source": [
    "#by skipping a slice value\n",
    "string_a[-31:]"
   ]
  },
  {
   "cell_type": "code",
   "execution_count": 68,
   "metadata": {},
   "outputs": [
    {
     "data": {
      "text/plain": [
       "' wran'"
      ]
     },
     "execution_count": 68,
     "metadata": {},
     "output_type": "execute_result"
    }
   ],
   "source": [
    "#using negative number for slicing\n",
    "string_a[-10:-5]"
   ]
  },
  {
   "cell_type": "markdown",
   "metadata": {},
   "source": [
    "### String Functions"
   ]
  },
  {
   "cell_type": "code",
   "execution_count": 69,
   "metadata": {},
   "outputs": [
    {
     "data": {
      "text/plain": [
       "41"
      ]
     },
     "execution_count": 69,
     "metadata": {},
     "output_type": "execute_result"
    }
   ],
   "source": [
    "# find the length of a string with len()\n",
    "len(string_a)"
   ]
  },
  {
   "cell_type": "code",
   "execution_count": 70,
   "metadata": {},
   "outputs": [],
   "source": [
    "# convert string case\n",
    "## use lower() and upper() methods\n",
    "str_1 = \"A COMPLETE UPER CASE STRING\"\n"
   ]
  },
  {
   "cell_type": "code",
   "execution_count": 71,
   "metadata": {},
   "outputs": [
    {
     "data": {
      "text/plain": [
       "'a complete uper case string'"
      ]
     },
     "execution_count": 71,
     "metadata": {},
     "output_type": "execute_result"
    }
   ],
   "source": [
    "str_1.lower()"
   ]
  },
  {
   "cell_type": "code",
   "execution_count": 72,
   "metadata": {},
   "outputs": [
    {
     "data": {
      "text/plain": [
       "'A COMPLETE UPER CASE STRING'"
      ]
     },
     "execution_count": 72,
     "metadata": {},
     "output_type": "execute_result"
    }
   ],
   "source": [
    "str_1.upper()"
   ]
  },
  {
   "cell_type": "code",
   "execution_count": 73,
   "metadata": {},
   "outputs": [],
   "source": [
    "#search for a string within a string\n",
    "## use find method\n",
    "str_1 = \"A complicated string look like this\""
   ]
  },
  {
   "cell_type": "code",
   "execution_count": 74,
   "metadata": {},
   "outputs": [
    {
     "data": {
      "text/plain": [
       "2"
      ]
     },
     "execution_count": 74,
     "metadata": {},
     "output_type": "execute_result"
    }
   ],
   "source": [
    "str_1.find('complicated')"
   ]
  },
  {
   "cell_type": "code",
   "execution_count": 75,
   "metadata": {},
   "outputs": [
    {
     "data": {
      "text/plain": [
       "-1"
      ]
     },
     "execution_count": 75,
     "metadata": {},
     "output_type": "execute_result"
    }
   ],
   "source": [
    "str_1.find('hello')"
   ]
  },
  {
   "cell_type": "code",
   "execution_count": 76,
   "metadata": {},
   "outputs": [
    {
     "data": {
      "text/plain": [
       "'A complicated string look like this'"
      ]
     },
     "execution_count": 76,
     "metadata": {},
     "output_type": "execute_result"
    }
   ],
   "source": [
    "# to replace a string with another\n",
    "### use the replace method\n",
    "str_1"
   ]
  },
  {
   "cell_type": "code",
   "execution_count": 77,
   "metadata": {},
   "outputs": [
    {
     "data": {
      "text/plain": [
       "'A simple string look like this'"
      ]
     },
     "execution_count": 77,
     "metadata": {},
     "output_type": "execute_result"
    }
   ],
   "source": [
    "str_1.replace('complicated', 'simple')"
   ]
  },
  {
   "cell_type": "markdown",
   "metadata": {},
   "source": [
    "### Splitting and Joining String Ex 1.14\n",
    "- split and join methods\n",
    "- use str.split(separator)\n",
    "- use str.join(separator)"
   ]
  },
  {
   "cell_type": "code",
   "execution_count": 78,
   "metadata": {},
   "outputs": [
    {
     "data": {
      "text/plain": [
       "['Name', ' age', ' Sex', ' Address']"
      ]
     },
     "execution_count": 78,
     "metadata": {},
     "output_type": "execute_result"
    }
   ],
   "source": [
    "#create a string and convert it into a list\n",
    "## using split\n",
    "str_1 = \"Name, age, Sex, Address\"\n",
    "list_1 = str_1.split(',')\n",
    "list_1"
   ]
  },
  {
   "cell_type": "code",
   "execution_count": 79,
   "metadata": {},
   "outputs": [
    {
     "data": {
      "text/plain": [
       "'Name| age| Sex| Address'"
      ]
     },
     "execution_count": 79,
     "metadata": {},
     "output_type": "execute_result"
    }
   ],
   "source": [
    "# combine list into another string\n",
    "s = '|'\n",
    "s.join(list_1)"
   ]
  },
  {
   "cell_type": "markdown",
   "metadata": {},
   "source": [
    "### Activity 1.02 Analyzing a Multi-line String and Generating the Unique Word Count"
   ]
  },
  {
   "cell_type": "code",
   "execution_count": 80,
   "metadata": {},
   "outputs": [],
   "source": [
    "multiline_text= \"\"\"It is a truth universally acknowledged, that a single man in possession of a good fortune, must be in want of a wife.\n",
    "\n",
    "However little known the feelings or views of such a man may be on his first entering a neighbourhood, this truth is so well fixed in the minds of the surrounding families, that he is considered the rightful property of some one or other of their daughters.\n",
    "\n",
    "\"My dear Mr. Bennet,\" said his lady to him one day, \"have you heard that Netherfield Park is let at last?\"\n",
    "\n",
    "Mr. Bennet replied that he had not.\n",
    "\n",
    "\"But it is,\" returned she; \"for Mrs. Long has just been here, and she told me all about it.\"\n",
    "\n",
    "Mr. Bennet made no answer.\n",
    "\n",
    "\"Do you not want to know who has taken it?\" cried his wife impatiently.\n",
    "\n",
    "\"You want to tell me, and I have no objection to hearing it.\"\n",
    "\n",
    "This was invitation enough.\n",
    "\n",
    "\"Why, my dear, you must know, Mrs. Long says that Netherfield is taken by a young man of large fortune from the north of England; that he came down on Monday in a chaise and four to see the place, and was so much delighted with it, that he agreed with Mr. Morris immediately; that he is to take possession before Michaelmas, and some of his servants are to be in the house by the end of next week.\"\n",
    "\n",
    "\"What is his name?\"\"\""
   ]
  },
  {
   "cell_type": "code",
   "execution_count": 81,
   "metadata": {},
   "outputs": [
    {
     "data": {
      "text/plain": [
       "'It is a truth universally acknowledged, that a single man in possession of a good fortune, must be in want of a wife.\\n\\nHowever little known the feelings or views of such a man may be on his first entering a neighbourhood, this truth is so well fixed in the minds of the surrounding families, that he is considered the rightful property of some one or other of their daughters.\\n\\n\"My dear Mr. Bennet,\" said his lady to him one day, \"have you heard that Netherfield Park is let at last?\"\\n\\nMr. Bennet replied that he had not.\\n\\n\"But it is,\" returned she; \"for Mrs. Long has just been here, and she told me all about it.\"\\n\\nMr. Bennet made no answer.\\n\\n\"Do you not want to know who has taken it?\" cried his wife impatiently.\\n\\n\"You want to tell me, and I have no objection to hearing it.\"\\n\\nThis was invitation enough.\\n\\n\"Why, my dear, you must know, Mrs. Long says that Netherfield is taken by a young man of large fortune from the north of England; that he came down on Monday in a chaise and four to see the place, and was so much delighted with it, that he agreed with Mr. Morris immediately; that he is to take possession before Michaelmas, and some of his servants are to be in the house by the end of next week.\"\\n\\n\"What is his name?'"
      ]
     },
     "execution_count": 81,
     "metadata": {},
     "output_type": "execute_result"
    }
   ],
   "source": [
    "multiline_text"
   ]
  },
  {
   "cell_type": "code",
   "execution_count": 82,
   "metadata": {},
   "outputs": [
    {
     "data": {
      "text/plain": [
       "(str, 1228)"
      ]
     },
     "execution_count": 82,
     "metadata": {},
     "output_type": "execute_result"
    }
   ],
   "source": [
    "# find its type and length\n",
    "type(multiline_text), len(multiline_text)"
   ]
  },
  {
   "cell_type": "code",
   "execution_count": 83,
   "metadata": {},
   "outputs": [
    {
     "data": {
      "text/plain": [
       "'It is a truth universally acknowledged that a single man in possession of a good fortune must be in want of a wifeHowever little known the feelings or views of such a man may be on his first entering a neighbourhood this truth is so well fixed in the minds of the surrounding families that he is considered the rightful property of some one or other of their daughters My dear Mr Bennet  said his lady to him one day  have you heard that Netherfield Park is let at last Mr Bennet replied that he had not But it is  returned she  for Mrs Long has just been here and she told me all about it Mr Bennet made no answer Do you not want to know who has taken it  cried his wife impatiently You want to tell me and I have no objection to hearing it This was invitation enough Why my dear you must know Mrs Long says that Netherfield is taken by a young man of large fortune from the north of England that he came down on Monday in a chaise and four to see the place and was so much delighted with it that he agreed with Mr Morris immediately that he is to take possession before Michaelmas and some of his servants are to be in the house by the end of next week  What is his name'"
      ]
     },
     "execution_count": 83,
     "metadata": {},
     "output_type": "execute_result"
    }
   ],
   "source": [
    "# remove all symbols and new lines using the replace\n",
    "multiline = multiline_text.replace('\\n','').replace('?','').replace('.','').replace(';','').replace(',','').replace('\"',' ')\n",
    "multiline"
   ]
  },
  {
   "cell_type": "code",
   "execution_count": 84,
   "metadata": {},
   "outputs": [
    {
     "data": {
      "text/plain": [
       "['It',\n",
       " 'is',\n",
       " 'a',\n",
       " 'truth',\n",
       " 'universally',\n",
       " 'acknowledged',\n",
       " 'that',\n",
       " 'a',\n",
       " 'single',\n",
       " 'man',\n",
       " 'in',\n",
       " 'possession',\n",
       " 'of',\n",
       " 'a',\n",
       " 'good',\n",
       " 'fortune',\n",
       " 'must',\n",
       " 'be',\n",
       " 'in',\n",
       " 'want',\n",
       " 'of',\n",
       " 'a',\n",
       " 'wifeHowever',\n",
       " 'little',\n",
       " 'known',\n",
       " 'the',\n",
       " 'feelings',\n",
       " 'or',\n",
       " 'views',\n",
       " 'of',\n",
       " 'such',\n",
       " 'a',\n",
       " 'man',\n",
       " 'may',\n",
       " 'be',\n",
       " 'on',\n",
       " 'his',\n",
       " 'first',\n",
       " 'entering',\n",
       " 'a',\n",
       " 'neighbourhood',\n",
       " 'this',\n",
       " 'truth',\n",
       " 'is',\n",
       " 'so',\n",
       " 'well',\n",
       " 'fixed',\n",
       " 'in',\n",
       " 'the',\n",
       " 'minds',\n",
       " 'of',\n",
       " 'the',\n",
       " 'surrounding',\n",
       " 'families',\n",
       " 'that',\n",
       " 'he',\n",
       " 'is',\n",
       " 'considered',\n",
       " 'the',\n",
       " 'rightful',\n",
       " 'property',\n",
       " 'of',\n",
       " 'some',\n",
       " 'one',\n",
       " 'or',\n",
       " 'other',\n",
       " 'of',\n",
       " 'their',\n",
       " 'daughters',\n",
       " 'My',\n",
       " 'dear',\n",
       " 'Mr',\n",
       " 'Bennet',\n",
       " '',\n",
       " 'said',\n",
       " 'his',\n",
       " 'lady',\n",
       " 'to',\n",
       " 'him',\n",
       " 'one',\n",
       " 'day',\n",
       " '',\n",
       " 'have',\n",
       " 'you',\n",
       " 'heard',\n",
       " 'that',\n",
       " 'Netherfield',\n",
       " 'Park',\n",
       " 'is',\n",
       " 'let',\n",
       " 'at',\n",
       " 'last',\n",
       " 'Mr',\n",
       " 'Bennet',\n",
       " 'replied',\n",
       " 'that',\n",
       " 'he',\n",
       " 'had',\n",
       " 'not',\n",
       " 'But',\n",
       " 'it',\n",
       " 'is',\n",
       " '',\n",
       " 'returned',\n",
       " 'she',\n",
       " '',\n",
       " 'for',\n",
       " 'Mrs',\n",
       " 'Long',\n",
       " 'has',\n",
       " 'just',\n",
       " 'been',\n",
       " 'here',\n",
       " 'and',\n",
       " 'she',\n",
       " 'told',\n",
       " 'me',\n",
       " 'all',\n",
       " 'about',\n",
       " 'it',\n",
       " 'Mr',\n",
       " 'Bennet',\n",
       " 'made',\n",
       " 'no',\n",
       " 'answer',\n",
       " 'Do',\n",
       " 'you',\n",
       " 'not',\n",
       " 'want',\n",
       " 'to',\n",
       " 'know',\n",
       " 'who',\n",
       " 'has',\n",
       " 'taken',\n",
       " 'it',\n",
       " '',\n",
       " 'cried',\n",
       " 'his',\n",
       " 'wife',\n",
       " 'impatiently',\n",
       " 'You',\n",
       " 'want',\n",
       " 'to',\n",
       " 'tell',\n",
       " 'me',\n",
       " 'and',\n",
       " 'I',\n",
       " 'have',\n",
       " 'no',\n",
       " 'objection',\n",
       " 'to',\n",
       " 'hearing',\n",
       " 'it',\n",
       " 'This',\n",
       " 'was',\n",
       " 'invitation',\n",
       " 'enough',\n",
       " 'Why',\n",
       " 'my',\n",
       " 'dear',\n",
       " 'you',\n",
       " 'must',\n",
       " 'know',\n",
       " 'Mrs',\n",
       " 'Long',\n",
       " 'says',\n",
       " 'that',\n",
       " 'Netherfield',\n",
       " 'is',\n",
       " 'taken',\n",
       " 'by',\n",
       " 'a',\n",
       " 'young',\n",
       " 'man',\n",
       " 'of',\n",
       " 'large',\n",
       " 'fortune',\n",
       " 'from',\n",
       " 'the',\n",
       " 'north',\n",
       " 'of',\n",
       " 'England',\n",
       " 'that',\n",
       " 'he',\n",
       " 'came',\n",
       " 'down',\n",
       " 'on',\n",
       " 'Monday',\n",
       " 'in',\n",
       " 'a',\n",
       " 'chaise',\n",
       " 'and',\n",
       " 'four',\n",
       " 'to',\n",
       " 'see',\n",
       " 'the',\n",
       " 'place',\n",
       " 'and',\n",
       " 'was',\n",
       " 'so',\n",
       " 'much',\n",
       " 'delighted',\n",
       " 'with',\n",
       " 'it',\n",
       " 'that',\n",
       " 'he',\n",
       " 'agreed',\n",
       " 'with',\n",
       " 'Mr',\n",
       " 'Morris',\n",
       " 'immediately',\n",
       " 'that',\n",
       " 'he',\n",
       " 'is',\n",
       " 'to',\n",
       " 'take',\n",
       " 'possession',\n",
       " 'before',\n",
       " 'Michaelmas',\n",
       " 'and',\n",
       " 'some',\n",
       " 'of',\n",
       " 'his',\n",
       " 'servants',\n",
       " 'are',\n",
       " 'to',\n",
       " 'be',\n",
       " 'in',\n",
       " 'the',\n",
       " 'house',\n",
       " 'by',\n",
       " 'the',\n",
       " 'end',\n",
       " 'of',\n",
       " 'next',\n",
       " 'week',\n",
       " '',\n",
       " 'What',\n",
       " 'is',\n",
       " 'his',\n",
       " 'name']"
      ]
     },
     "execution_count": 84,
     "metadata": {},
     "output_type": "execute_result"
    }
   ],
   "source": [
    "list_word = multiline.split(' ')\n",
    "list_word"
   ]
  },
  {
   "cell_type": "code",
   "execution_count": 85,
   "metadata": {},
   "outputs": [
    {
     "data": {
      "text/plain": [
       "['',\n",
       " 'been',\n",
       " 'some',\n",
       " 'fortune',\n",
       " 'invitation',\n",
       " 'agreed',\n",
       " 'at',\n",
       " 'not',\n",
       " 'This',\n",
       " 'one',\n",
       " 'here',\n",
       " 'take',\n",
       " 'must',\n",
       " 'he',\n",
       " 'my',\n",
       " 'I',\n",
       " 'she',\n",
       " 'first',\n",
       " 'day',\n",
       " 'families',\n",
       " 'Park',\n",
       " 'in',\n",
       " 'no',\n",
       " 'replied',\n",
       " 'hearing',\n",
       " 'immediately',\n",
       " 'before',\n",
       " 'wife',\n",
       " 'from',\n",
       " 'be',\n",
       " 'Mrs',\n",
       " 'have',\n",
       " 'want',\n",
       " 'that',\n",
       " 'delighted',\n",
       " 'man',\n",
       " 'Monday',\n",
       " 'it',\n",
       " 'Netherfield',\n",
       " 'universally',\n",
       " 'and',\n",
       " 'may',\n",
       " 'good',\n",
       " 'me',\n",
       " 'him',\n",
       " 'such',\n",
       " 'week',\n",
       " 'possession',\n",
       " 'You',\n",
       " 'little',\n",
       " 'neighbourhood',\n",
       " 'is',\n",
       " 'enough',\n",
       " 'by',\n",
       " 'so',\n",
       " 'daughters',\n",
       " 'returned',\n",
       " 'made',\n",
       " 'young',\n",
       " 'has',\n",
       " 'property',\n",
       " 'surrounding',\n",
       " 'of',\n",
       " 'well',\n",
       " 'England',\n",
       " 'four',\n",
       " 'entering',\n",
       " 'was',\n",
       " 'known',\n",
       " 'see',\n",
       " 'north',\n",
       " 'the',\n",
       " 'said',\n",
       " 'had',\n",
       " 'single',\n",
       " 'house',\n",
       " 'Bennet',\n",
       " 'Long',\n",
       " 'acknowledged',\n",
       " 'views',\n",
       " 'feelings',\n",
       " 'Do',\n",
       " 'considered',\n",
       " 'for',\n",
       " 'says',\n",
       " 'on',\n",
       " 'tell',\n",
       " 'large',\n",
       " 'his',\n",
       " 'last',\n",
       " 'dear',\n",
       " 'chaise',\n",
       " 'place',\n",
       " 'rightful',\n",
       " 'impatiently',\n",
       " 'down',\n",
       " 'know',\n",
       " 'other',\n",
       " 'Why',\n",
       " 'next',\n",
       " 'to',\n",
       " 'with',\n",
       " 'you',\n",
       " 'truth',\n",
       " 'came',\n",
       " 'lady',\n",
       " 'name',\n",
       " 'who',\n",
       " 'end',\n",
       " 'taken',\n",
       " 'It',\n",
       " 'a',\n",
       " 'their',\n",
       " 'let',\n",
       " 'fixed',\n",
       " 'heard',\n",
       " 'Michaelmas',\n",
       " 'But',\n",
       " 'just',\n",
       " 'all',\n",
       " 'or',\n",
       " 'about',\n",
       " 'are',\n",
       " 'much',\n",
       " 'minds',\n",
       " 'cried',\n",
       " 'objection',\n",
       " 'Mr',\n",
       " 'wifeHowever',\n",
       " 'this',\n",
       " 'Morris',\n",
       " 'What',\n",
       " 'told',\n",
       " 'answer',\n",
       " 'My',\n",
       " 'servants']"
      ]
     },
     "execution_count": 85,
     "metadata": {},
     "output_type": "execute_result"
    }
   ],
   "source": [
    "unique_lst = list(set(list_word))\n",
    "unique_lst"
   ]
  },
  {
   "cell_type": "code",
   "execution_count": 86,
   "metadata": {},
   "outputs": [
    {
     "data": {
      "text/plain": [
       "{'It': None,\n",
       " 'is': None,\n",
       " 'a': None,\n",
       " 'truth': None,\n",
       " 'universally': None,\n",
       " 'acknowledged': None,\n",
       " 'that': None,\n",
       " 'single': None,\n",
       " 'man': None,\n",
       " 'in': None,\n",
       " 'possession': None,\n",
       " 'of': None,\n",
       " 'good': None,\n",
       " 'fortune': None,\n",
       " 'must': None,\n",
       " 'be': None,\n",
       " 'want': None,\n",
       " 'wifeHowever': None,\n",
       " 'little': None,\n",
       " 'known': None,\n",
       " 'the': None,\n",
       " 'feelings': None,\n",
       " 'or': None,\n",
       " 'views': None,\n",
       " 'such': None,\n",
       " 'may': None,\n",
       " 'on': None,\n",
       " 'his': None,\n",
       " 'first': None,\n",
       " 'entering': None,\n",
       " 'neighbourhood': None,\n",
       " 'this': None,\n",
       " 'so': None,\n",
       " 'well': None,\n",
       " 'fixed': None,\n",
       " 'minds': None,\n",
       " 'surrounding': None,\n",
       " 'families': None,\n",
       " 'he': None,\n",
       " 'considered': None,\n",
       " 'rightful': None,\n",
       " 'property': None,\n",
       " 'some': None,\n",
       " 'one': None,\n",
       " 'other': None,\n",
       " 'their': None,\n",
       " 'daughters': None,\n",
       " 'My': None,\n",
       " 'dear': None,\n",
       " 'Mr': None,\n",
       " 'Bennet': None,\n",
       " '': None,\n",
       " 'said': None,\n",
       " 'lady': None,\n",
       " 'to': None,\n",
       " 'him': None,\n",
       " 'day': None,\n",
       " 'have': None,\n",
       " 'you': None,\n",
       " 'heard': None,\n",
       " 'Netherfield': None,\n",
       " 'Park': None,\n",
       " 'let': None,\n",
       " 'at': None,\n",
       " 'last': None,\n",
       " 'replied': None,\n",
       " 'had': None,\n",
       " 'not': None,\n",
       " 'But': None,\n",
       " 'it': None,\n",
       " 'returned': None,\n",
       " 'she': None,\n",
       " 'for': None,\n",
       " 'Mrs': None,\n",
       " 'Long': None,\n",
       " 'has': None,\n",
       " 'just': None,\n",
       " 'been': None,\n",
       " 'here': None,\n",
       " 'and': None,\n",
       " 'told': None,\n",
       " 'me': None,\n",
       " 'all': None,\n",
       " 'about': None,\n",
       " 'made': None,\n",
       " 'no': None,\n",
       " 'answer': None,\n",
       " 'Do': None,\n",
       " 'know': None,\n",
       " 'who': None,\n",
       " 'taken': None,\n",
       " 'cried': None,\n",
       " 'wife': None,\n",
       " 'impatiently': None,\n",
       " 'You': None,\n",
       " 'tell': None,\n",
       " 'I': None,\n",
       " 'objection': None,\n",
       " 'hearing': None,\n",
       " 'This': None,\n",
       " 'was': None,\n",
       " 'invitation': None,\n",
       " 'enough': None,\n",
       " 'Why': None,\n",
       " 'my': None,\n",
       " 'says': None,\n",
       " 'by': None,\n",
       " 'young': None,\n",
       " 'large': None,\n",
       " 'from': None,\n",
       " 'north': None,\n",
       " 'England': None,\n",
       " 'came': None,\n",
       " 'down': None,\n",
       " 'Monday': None,\n",
       " 'chaise': None,\n",
       " 'four': None,\n",
       " 'see': None,\n",
       " 'place': None,\n",
       " 'much': None,\n",
       " 'delighted': None,\n",
       " 'with': None,\n",
       " 'agreed': None,\n",
       " 'Morris': None,\n",
       " 'immediately': None,\n",
       " 'take': None,\n",
       " 'before': None,\n",
       " 'Michaelmas': None,\n",
       " 'servants': None,\n",
       " 'are': None,\n",
       " 'house': None,\n",
       " 'end': None,\n",
       " 'next': None,\n",
       " 'week': None,\n",
       " 'What': None,\n",
       " 'name': None}"
      ]
     },
     "execution_count": 86,
     "metadata": {},
     "output_type": "execute_result"
    }
   ],
   "source": [
    "unique_dict = dict.fromkeys(list_word)\n",
    "unique_dict"
   ]
  },
  {
   "cell_type": "code",
   "execution_count": 87,
   "metadata": {},
   "outputs": [
    {
     "data": {
      "text/plain": [
       "{'It': 1,\n",
       " 'is': 8,\n",
       " 'a': 8,\n",
       " 'truth': 2,\n",
       " 'universally': 1,\n",
       " 'acknowledged': 1,\n",
       " 'that': 8,\n",
       " 'single': 1,\n",
       " 'man': 3,\n",
       " 'in': 5,\n",
       " 'possession': 2,\n",
       " 'of': 10,\n",
       " 'good': 1,\n",
       " 'fortune': 2,\n",
       " 'must': 2,\n",
       " 'be': 3,\n",
       " 'want': 3,\n",
       " 'wifeHowever': 1,\n",
       " 'little': 1,\n",
       " 'known': 1,\n",
       " 'the': 8,\n",
       " 'feelings': 1,\n",
       " 'or': 2,\n",
       " 'views': 1,\n",
       " 'such': 1,\n",
       " 'may': 1,\n",
       " 'on': 2,\n",
       " 'his': 5,\n",
       " 'first': 1,\n",
       " 'entering': 1,\n",
       " 'neighbourhood': 1,\n",
       " 'this': 1,\n",
       " 'so': 2,\n",
       " 'well': 1,\n",
       " 'fixed': 1,\n",
       " 'minds': 1,\n",
       " 'surrounding': 1,\n",
       " 'families': 1,\n",
       " 'he': 5,\n",
       " 'considered': 1,\n",
       " 'rightful': 1,\n",
       " 'property': 1,\n",
       " 'some': 2,\n",
       " 'one': 2,\n",
       " 'other': 1,\n",
       " 'their': 1,\n",
       " 'daughters': 1,\n",
       " 'My': 1,\n",
       " 'dear': 2,\n",
       " 'Mr': 4,\n",
       " 'Bennet': 3,\n",
       " '': 6,\n",
       " 'said': 1,\n",
       " 'lady': 1,\n",
       " 'to': 7,\n",
       " 'him': 1,\n",
       " 'day': 1,\n",
       " 'have': 2,\n",
       " 'you': 3,\n",
       " 'heard': 1,\n",
       " 'Netherfield': 2,\n",
       " 'Park': 1,\n",
       " 'let': 1,\n",
       " 'at': 1,\n",
       " 'last': 1,\n",
       " 'replied': 1,\n",
       " 'had': 1,\n",
       " 'not': 2,\n",
       " 'But': 1,\n",
       " 'it': 5,\n",
       " 'returned': 1,\n",
       " 'she': 2,\n",
       " 'for': 1,\n",
       " 'Mrs': 2,\n",
       " 'Long': 2,\n",
       " 'has': 2,\n",
       " 'just': 1,\n",
       " 'been': 1,\n",
       " 'here': 1,\n",
       " 'and': 5,\n",
       " 'told': 1,\n",
       " 'me': 2,\n",
       " 'all': 1,\n",
       " 'about': 1,\n",
       " 'made': 1,\n",
       " 'no': 2,\n",
       " 'answer': 1,\n",
       " 'Do': 1,\n",
       " 'know': 2,\n",
       " 'who': 1,\n",
       " 'taken': 2,\n",
       " 'cried': 1,\n",
       " 'wife': 1,\n",
       " 'impatiently': 1,\n",
       " 'You': 1,\n",
       " 'tell': 1,\n",
       " 'I': 1,\n",
       " 'objection': 1,\n",
       " 'hearing': 1,\n",
       " 'This': 1,\n",
       " 'was': 2,\n",
       " 'invitation': 1,\n",
       " 'enough': 1,\n",
       " 'Why': 1,\n",
       " 'my': 1,\n",
       " 'says': 1,\n",
       " 'by': 2,\n",
       " 'young': 1,\n",
       " 'large': 1,\n",
       " 'from': 1,\n",
       " 'north': 1,\n",
       " 'England': 1,\n",
       " 'came': 1,\n",
       " 'down': 1,\n",
       " 'Monday': 1,\n",
       " 'chaise': 1,\n",
       " 'four': 1,\n",
       " 'see': 1,\n",
       " 'place': 1,\n",
       " 'much': 1,\n",
       " 'delighted': 1,\n",
       " 'with': 2,\n",
       " 'agreed': 1,\n",
       " 'Morris': 1,\n",
       " 'immediately': 1,\n",
       " 'take': 1,\n",
       " 'before': 1,\n",
       " 'Michaelmas': 1,\n",
       " 'servants': 1,\n",
       " 'are': 1,\n",
       " 'house': 1,\n",
       " 'end': 1,\n",
       " 'next': 1,\n",
       " 'week': 1,\n",
       " 'What': 1,\n",
       " 'name': 1}"
      ]
     },
     "execution_count": 87,
     "metadata": {},
     "output_type": "execute_result"
    }
   ],
   "source": [
    "for x in list_word:\n",
    "    if unique_dict[x] is None:\n",
    "        unique_dict[x] = 1\n",
    "    else:\n",
    "        unique_dict[x] += 1\n",
    "unique_dict        "
   ]
  },
  {
   "cell_type": "code",
   "execution_count": 88,
   "metadata": {},
   "outputs": [
    {
     "data": {
      "text/plain": [
       "[('of', 10),\n",
       " ('is', 8),\n",
       " ('a', 8),\n",
       " ('that', 8),\n",
       " ('the', 8),\n",
       " ('to', 7),\n",
       " ('', 6),\n",
       " ('in', 5),\n",
       " ('his', 5),\n",
       " ('he', 5),\n",
       " ('it', 5),\n",
       " ('and', 5),\n",
       " ('Mr', 4),\n",
       " ('man', 3),\n",
       " ('be', 3),\n",
       " ('want', 3),\n",
       " ('Bennet', 3),\n",
       " ('you', 3),\n",
       " ('truth', 2),\n",
       " ('possession', 2),\n",
       " ('fortune', 2),\n",
       " ('must', 2),\n",
       " ('or', 2),\n",
       " ('on', 2),\n",
       " ('so', 2)]"
      ]
     },
     "execution_count": 88,
     "metadata": {},
     "output_type": "execute_result"
    }
   ],
   "source": [
    "top_words = sorted(unique_dict.items(), key=lambda x: x[1], reverse=True)\n",
    "top_words[:25]\n"
   ]
  },
  {
   "cell_type": "code",
   "execution_count": null,
   "metadata": {},
   "outputs": [],
   "source": []
  }
 ],
 "metadata": {
  "kernelspec": {
   "display_name": "Python 3",
   "language": "python",
   "name": "python3"
  },
  "language_info": {
   "codemirror_mode": {
    "name": "ipython",
    "version": 3
   },
   "file_extension": ".py",
   "mimetype": "text/x-python",
   "name": "python",
   "nbconvert_exporter": "python",
   "pygments_lexer": "ipython3",
   "version": "3.7.0"
  }
 },
 "nbformat": 4,
 "nbformat_minor": 2
}
