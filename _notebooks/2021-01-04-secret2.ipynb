{
 "cells": [
  {
   "cell_type": "markdown",
   "metadata": {},
   "source": [
    "#  Learning the Hidden Secrets Of Data Wrangling\n",
    "> Advance List Comprehension and the Zip Function\n",
    "- toc:true \n",
    "- branch:master\n",
    "- badges:true\n",
    "- comments:false\n",
    "- categories: [jupyter]\n",
    "\n"
   ]
  },
  {
   "cell_type": "markdown",
   "metadata": {},
   "source": [
    "## Introduction to Generator Expression\n",
    "- Generator expression are high-performance, memory-efficient generalization of list comprehension and generator"
   ]
  },
  {
   "cell_type": "markdown",
   "metadata": {},
   "source": [
    "### Generator Expression Ex 6.01"
   ]
  },
  {
   "cell_type": "code",
   "execution_count": 1,
   "metadata": {},
   "outputs": [],
   "source": [
    "from sys import getsizeof"
   ]
  },
  {
   "cell_type": "code",
   "execution_count": 2,
   "metadata": {},
   "outputs": [],
   "source": [
    "#comparing generator expression with list comprehension\n",
    "### generate a list of odd number between 0 and 100\n",
    "odd_numbers2 = [x for x in range(100000) if x % 2 != 0]"
   ]
  },
  {
   "cell_type": "code",
   "execution_count": 3,
   "metadata": {},
   "outputs": [
    {
     "data": {
      "text/plain": [
       "406496"
      ]
     },
     "execution_count": 3,
     "metadata": {},
     "output_type": "execute_result"
    }
   ],
   "source": [
    "getsizeof(odd_numbers2)"
   ]
  },
  {
   "cell_type": "code",
   "execution_count": 4,
   "metadata": {},
   "outputs": [],
   "source": [
    "# using generator expression\n",
    "odd_numbers = (x for x in range(100000) if x % 2 !=0)\n"
   ]
  },
  {
   "cell_type": "code",
   "execution_count": 5,
   "metadata": {},
   "outputs": [
    {
     "data": {
      "text/plain": [
       "120"
      ]
     },
     "execution_count": 5,
     "metadata": {},
     "output_type": "execute_result"
    }
   ],
   "source": [
    "getsizeof(odd_numbers)"
   ]
  },
  {
   "cell_type": "code",
   "execution_count": 6,
   "metadata": {},
   "outputs": [
    {
     "data": {
      "text/plain": [
       "<generator object <genexpr> at 0x10547b408>"
      ]
     },
     "execution_count": 6,
     "metadata": {},
     "output_type": "execute_result"
    }
   ],
   "source": [
    "odd_numbers"
   ]
  },
  {
   "cell_type": "code",
   "execution_count": 7,
   "metadata": {},
   "outputs": [
    {
     "name": "stdout",
     "output_type": "stream",
     "text": [
      "1\n",
      "3\n",
      "5\n",
      "7\n",
      "9\n",
      "11\n",
      "13\n",
      "15\n",
      "17\n",
      "19\n",
      "21\n",
      "23\n"
     ]
    }
   ],
   "source": [
    "#print the first 10 odd numbers\n",
    "for i, number in enumerate(odd_numbers):\n",
    "    print(number)\n",
    "    if i > 10:\n",
    "        break"
   ]
  },
  {
   "cell_type": "code",
   "execution_count": 8,
   "metadata": {},
   "outputs": [],
   "source": [
    "#### Single-Line Generator Expression\n",
    "words = [\"Hello\\n\", \"My name\", \"is\\n\",\"Bob\",\"How are you\", \"doing\\n\"]\n"
   ]
  },
  {
   "cell_type": "code",
   "execution_count": 9,
   "metadata": {},
   "outputs": [],
   "source": [
    "# solving the above problem with generator\n",
    "modified_words = (word.strip().lower() for word in words)"
   ]
  },
  {
   "cell_type": "code",
   "execution_count": 10,
   "metadata": {},
   "outputs": [
    {
     "data": {
      "text/plain": [
       "['hello', 'my name', 'is', 'bob', 'how are you', 'doing']"
      ]
     },
     "execution_count": 10,
     "metadata": {},
     "output_type": "execute_result"
    }
   ],
   "source": [
    "# create a list comprehension to get words one by one from the generator expression\n",
    "final_list_of_word = [word for word in modified_words]\n",
    "final_list_of_word"
   ]
  },
  {
   "cell_type": "markdown",
   "metadata": {},
   "source": [
    "### Extracting List with Single Words Ex 6.03"
   ]
  },
  {
   "cell_type": "code",
   "execution_count": 11,
   "metadata": {},
   "outputs": [],
   "source": [
    "# comapraing generator expression wit a for loop\n",
    "modified_word3 = (w.strip() for word in words for w in word.split(' '))\n",
    "\n"
   ]
  },
  {
   "cell_type": "code",
   "execution_count": 12,
   "metadata": {},
   "outputs": [],
   "source": [
    "final_list_of_words2 = [word for word in modified_word3]"
   ]
  },
  {
   "cell_type": "code",
   "execution_count": 13,
   "metadata": {},
   "outputs": [
    {
     "data": {
      "text/plain": [
       "['Hello', 'My', 'name', 'is', 'Bob', 'How', 'are', 'you', 'doing']"
      ]
     },
     "execution_count": 13,
     "metadata": {},
     "output_type": "execute_result"
    }
   ],
   "source": [
    "final_list_of_words2"
   ]
  },
  {
   "cell_type": "code",
   "execution_count": 14,
   "metadata": {},
   "outputs": [
    {
     "data": {
      "text/plain": [
       "['hello', 'my', 'name', 'is', 'bob', 'how', 'are', 'you', 'doing']"
      ]
     },
     "execution_count": 14,
     "metadata": {},
     "output_type": "execute_result"
    }
   ],
   "source": [
    "# nested for loop\n",
    "modified_words4 = []\n",
    "for word in words:\n",
    "    for w in word.split(' '):\n",
    "        modified_words4.append(w.strip().lower())\n",
    "modified_words4"
   ]
  },
  {
   "cell_type": "code",
   "execution_count": 15,
   "metadata": {},
   "outputs": [],
   "source": [
    "#using independent loop\n",
    "marbles = ['RED','BLUE','GREEN']\n",
    "counts = [1, 5, 13]"
   ]
  },
  {
   "cell_type": "code",
   "execution_count": 16,
   "metadata": {},
   "outputs": [],
   "source": [
    "# this generator expression creates a tuple of the results\n",
    "marble_with_count = ((m,c) for m in marbles for c in counts)"
   ]
  },
  {
   "cell_type": "code",
   "execution_count": 17,
   "metadata": {},
   "outputs": [
    {
     "data": {
      "text/plain": [
       "[('RED', 1),\n",
       " ('RED', 5),\n",
       " ('RED', 13),\n",
       " ('BLUE', 1),\n",
       " ('BLUE', 5),\n",
       " ('BLUE', 13),\n",
       " ('GREEN', 1),\n",
       " ('GREEN', 5),\n",
       " ('GREEN', 13)]"
      ]
     },
     "execution_count": 17,
     "metadata": {},
     "output_type": "execute_result"
    }
   ],
   "source": [
    "result_marble_count = [i for i in marble_with_count]\n",
    "result_marble_count"
   ]
  },
  {
   "cell_type": "code",
   "execution_count": 18,
   "metadata": {},
   "outputs": [
    {
     "data": {
      "text/plain": [
       "[('RED', 1),\n",
       " ('RED', 5),\n",
       " ('RED', 13),\n",
       " ('BLUE', 1),\n",
       " ('BLUE', 5),\n",
       " ('BLUE', 13),\n",
       " ('GREEN', 1),\n",
       " ('GREEN', 5),\n",
       " ('GREEN', 13)]"
      ]
     },
     "execution_count": 18,
     "metadata": {},
     "output_type": "execute_result"
    }
   ],
   "source": [
    "# using the ordinary for-loop\n",
    "marble_counts_as_list = []\n",
    "for m in marbles:\n",
    "    for c in counts:\n",
    "        marble_counts_as_list.append((m,c))\n",
    "marble_counts_as_list"
   ]
  },
  {
   "cell_type": "markdown",
   "metadata": {},
   "source": [
    "the Generator expression is easy elegant and efficient"
   ]
  },
  {
   "cell_type": "markdown",
   "metadata": {},
   "source": [
    "## The Zip Function Ex 6.04\n",
    " while generator expression is elegant it has some limits and this is complemented with zip function"
   ]
  },
  {
   "cell_type": "code",
   "execution_count": 19,
   "metadata": {},
   "outputs": [],
   "source": [
    "countries = ['India', 'USA', 'France', 'UK']\n",
    "capitals = ['Delhi', 'Washington','Paris', 'London']\n"
   ]
  },
  {
   "cell_type": "code",
   "execution_count": 20,
   "metadata": {},
   "outputs": [],
   "source": [
    "## Generate a list of where the first element is the name of the capital\n",
    "countries_and_capitals = [t for t in zip(countries, capitals)]"
   ]
  },
  {
   "cell_type": "code",
   "execution_count": 21,
   "metadata": {},
   "outputs": [
    {
     "data": {
      "text/plain": [
       "[('India', 'Delhi'),\n",
       " ('USA', 'Washington'),\n",
       " ('France', 'Paris'),\n",
       " ('UK', 'London')]"
      ]
     },
     "execution_count": 21,
     "metadata": {},
     "output_type": "execute_result"
    }
   ],
   "source": [
    "countries_and_capitals"
   ]
  },
  {
   "cell_type": "code",
   "execution_count": 22,
   "metadata": {},
   "outputs": [
    {
     "data": {
      "text/plain": [
       "{'India': 'Delhi', 'USA': 'Washington', 'France': 'Paris', 'UK': 'London'}"
      ]
     },
     "execution_count": 22,
     "metadata": {},
     "output_type": "execute_result"
    }
   ],
   "source": [
    "countries_and_capitals_as_dict = dict(zip(countries, capitals))\n",
    "countries_and_capitals_as_dict"
   ]
  },
  {
   "cell_type": "markdown",
   "metadata": {},
   "source": [
    "### Handling Messy Data Ex 6.05"
   ]
  },
  {
   "cell_type": "code",
   "execution_count": 23,
   "metadata": {},
   "outputs": [],
   "source": [
    "# Using the zip functions for messy data\n",
    "# the power of ziplongest to solve uneven list\n",
    "countries = ['India', 'USA','France', 'UK','Brazil','Japan']\n",
    "capitals = ['Delhi', 'Washington', 'Paris', 'London']\n"
   ]
  },
  {
   "cell_type": "code",
   "execution_count": 24,
   "metadata": {},
   "outputs": [],
   "source": [
    "from itertools import zip_longest\n"
   ]
  },
  {
   "cell_type": "code",
   "execution_count": 25,
   "metadata": {},
   "outputs": [
    {
     "data": {
      "text/plain": [
       "{'India': 'Delhi',\n",
       " 'USA': 'Washington',\n",
       " 'France': 'Paris',\n",
       " 'UK': 'London',\n",
       " 'Brazil': None,\n",
       " 'Japan': None}"
      ]
     },
     "execution_count": 25,
     "metadata": {},
     "output_type": "execute_result"
    }
   ],
   "source": [
    "countries_and_capitals_2 = dict(zip_longest(countries, capitals))\n",
    "countries_and_capitals_2"
   ]
  },
  {
   "cell_type": "markdown",
   "metadata": {},
   "source": [
    "## Data Formatting\n",
    "- There are different methods for formatting data"
   ]
  },
  {
   "cell_type": "code",
   "execution_count": 26,
   "metadata": {},
   "outputs": [],
   "source": [
    "import pandas as pd\n",
    "from csv import DictReader"
   ]
  },
  {
   "cell_type": "markdown",
   "metadata": {},
   "source": [
    "### The % operators"
   ]
  },
  {
   "cell_type": "code",
   "execution_count": 27,
   "metadata": {},
   "outputs": [],
   "source": [
    "raw_data = []\n",
    "with open('The-Data-Wrangling-Workshop/Chapter06/datasets/combinded_data.csv','rt') as fd:\n",
    "    data_rows = DictReader(fd)\n",
    "    for data in data_rows:\n",
    "        raw_data.append(dict(data))"
   ]
  },
  {
   "cell_type": "code",
   "execution_count": 28,
   "metadata": {},
   "outputs": [
    {
     "data": {
      "text/plain": [
       "[{'Name': 'Bob',\n",
       "  'Age': '23.0',\n",
       "  'Height': '1.7',\n",
       "  'Weight': '70',\n",
       "  'Disease_history': 'N',\n",
       "  'Heart_problem': 'N'},\n",
       " {'Name': 'Alex',\n",
       "  'Age': '45',\n",
       "  'Height': '1.61',\n",
       "  'Weight': '61',\n",
       "  'Disease_history': 'Y',\n",
       "  'Heart_problem': 'N'},\n",
       " {'Name': 'George',\n",
       "  'Age': '12.5',\n",
       "  'Height': '1.4',\n",
       "  'Weight': '40',\n",
       "  'Disease_history': 'N',\n",
       "  'Heart_problem': ''},\n",
       " {'Name': 'Alice',\n",
       "  'Age': '34',\n",
       "  'Height': '1.56',\n",
       "  'Weight': '51',\n",
       "  'Disease_history': 'N',\n",
       "  'Heart_problem': 'Y'}]"
      ]
     },
     "execution_count": 28,
     "metadata": {},
     "output_type": "execute_result"
    }
   ],
   "source": [
    "raw_data"
   ]
  },
  {
   "cell_type": "code",
   "execution_count": 29,
   "metadata": {},
   "outputs": [
    {
     "name": "stdout",
     "output_type": "stream",
     "text": [
      "Bob is 23.0 years old and is 1.7 meter tall weighing about 70 kg. Has a history of family illness: N\n",
      "\n",
      "    Presently suffering from a heart disease: N \n",
      "Alex is 45 years old and is 1.61 meter tall weighing about 61 kg. Has a history of family illness: Y\n",
      "\n",
      "    Presently suffering from a heart disease: N \n",
      "George is 12.5 years old and is 1.4 meter tall weighing about 40 kg. Has a history of family illness: N\n",
      "\n",
      "    Presently suffering from a heart disease:  \n",
      "Alice is 34 years old and is 1.56 meter tall weighing about 51 kg. Has a history of family illness: N\n",
      "\n",
      "    Presently suffering from a heart disease: Y \n"
     ]
    }
   ],
   "source": [
    "# making a report out of the above raw data from te csv file\n",
    "for data in raw_data:\n",
    "    report_str = \"\"\"%s is %s years old and is %s meter tall weighing about %s kg. Has a history of family illness: %s\\n\n",
    "    Presently suffering from a heart disease: %s \"\"\" % (data['Name'], data['Age'], data['Height'],data['Weight'],data['Disease_history'], data['Heart_problem'])\n",
    "    print(report_str)\n",
    "    \n",
    "    "
   ]
  },
  {
   "cell_type": "markdown",
   "metadata": {},
   "source": [
    "### This is the two ways in which % operator is used\n",
    "- when used inside a quote, it signifies what kind of data to expect here. `%s` stands for string, whereas `%d` stands for integer. if a wrong data type is indicated it will throw an error\n",
    "- when we use the `%` operator outside the quote, it basically tells python to start replacing all the data inside with the values provided for them outside"
   ]
  },
  {
   "cell_type": "markdown",
   "metadata": {},
   "source": [
    "### Using the format Function"
   ]
  },
  {
   "cell_type": "code",
   "execution_count": 30,
   "metadata": {},
   "outputs": [
    {
     "name": "stdout",
     "output_type": "stream",
     "text": [
      "Bob is 23.0 years old and is 1.7 meter tall weighing about 70 kg. Has a history of family illness: N\n",
      "\n",
      "    Presently suffering from a heart disease: N \n",
      "Alex is 45 years old and is 1.61 meter tall weighing about 61 kg. Has a history of family illness: Y\n",
      "\n",
      "    Presently suffering from a heart disease: N \n",
      "George is 12.5 years old and is 1.4 meter tall weighing about 40 kg. Has a history of family illness: N\n",
      "\n",
      "    Presently suffering from a heart disease:  \n",
      "Alice is 34 years old and is 1.56 meter tall weighing about 51 kg. Has a history of family illness: N\n",
      "\n",
      "    Presently suffering from a heart disease: Y \n"
     ]
    }
   ],
   "source": [
    "for data in raw_data:\n",
    "    report_str = \"\"\"{} is {} years old and is {} meter tall weighing about {} kg. Has a history of family illness: {}\\n\n",
    "    Presently suffering from a heart disease: {} \"\"\".format(data['Name'], data['Age'], data['Height'],data['Weight'],data['Disease_history'], data['Heart_problem'])\n",
    "    print(report_str)\n"
   ]
  },
  {
   "cell_type": "code",
   "execution_count": 31,
   "metadata": {},
   "outputs": [
    {
     "name": "stdout",
     "output_type": "stream",
     "text": [
      "Bob is 23.0 years old and is 1.7 meter tall weighing about 70 kg. Has a history of family illness: N\n",
      "\n",
      "    Presently suffering from a heart disease: N \n",
      "Alex is 45 years old and is 1.61 meter tall weighing about 61 kg. Has a history of family illness: Y\n",
      "\n",
      "    Presently suffering from a heart disease: N \n",
      "George is 12.5 years old and is 1.4 meter tall weighing about 40 kg. Has a history of family illness: N\n",
      "\n",
      "    Presently suffering from a heart disease:  \n",
      "Alice is 34 years old and is 1.56 meter tall weighing about 51 kg. Has a history of family illness: N\n",
      "\n",
      "    Presently suffering from a heart disease: Y \n"
     ]
    }
   ],
   "source": [
    "for data in raw_data:\n",
    "    report_str = \"\"\"{Name} is {Age} years old and is {Height} meter tall weighing about {Weight} kg. Has a history of family illness: {Disease_history}\\n\n",
    "    Presently suffering from a heart disease: {Heart_problem} \"\"\".format(**data)\n",
    "    print(report_str)\n"
   ]
  },
  {
   "cell_type": "markdown",
   "metadata": {},
   "source": [
    "### Data Representation Using `{}`\n",
    "- Printing up to a certain decimal place\n",
    "- changing binary to decimal numbers"
   ]
  },
  {
   "cell_type": "code",
   "execution_count": 32,
   "metadata": {},
   "outputs": [
    {
     "name": "stdout",
     "output_type": "stream",
     "text": [
      "The binary representation of 42 is - 101010\n"
     ]
    }
   ],
   "source": [
    "# change a decimal number into a binary form by using \n",
    "original_number = 42\n",
    "print('The binary representation of 42 is - {0:b}'.format(original_number))"
   ]
  },
  {
   "cell_type": "code",
   "execution_count": 33,
   "metadata": {},
   "outputs": [
    {
     "name": "stdout",
     "output_type": "stream",
     "text": [
      "            I am at the center            \n"
     ]
    }
   ],
   "source": [
    "# print a string thats center oriented\n",
    "print(\"{:^42}\".format('I am at the center'))"
   ]
  },
  {
   "cell_type": "code",
   "execution_count": 34,
   "metadata": {},
   "outputs": [
    {
     "name": "stdout",
     "output_type": "stream",
     "text": [
      "============I am at the center============\n"
     ]
    }
   ],
   "source": [
    "# printing a string that's center oriented but this time with padding on both side\n",
    "print('{:=^42}'.format('I am at the center'))"
   ]
  },
  {
   "cell_type": "markdown",
   "metadata": {},
   "source": [
    "### Formatting Dates"
   ]
  },
  {
   "cell_type": "code",
   "execution_count": 35,
   "metadata": {},
   "outputs": [],
   "source": [
    "from datetime import datetime"
   ]
  },
  {
   "cell_type": "code",
   "execution_count": 36,
   "metadata": {},
   "outputs": [
    {
     "name": "stdout",
     "output_type": "stream",
     "text": [
      "The present datetime is 2020-12-12 16:07:21\n"
     ]
    }
   ],
   "source": [
    "print('The present datetime is {:%Y-%m-%d %H:%M:%S}'.format((datetime.utcnow())))"
   ]
  },
  {
   "cell_type": "code",
   "execution_count": 37,
   "metadata": {},
   "outputs": [
    {
     "name": "stdout",
     "output_type": "stream",
     "text": [
      "2020-12-12 16:07:21.130892\n"
     ]
    }
   ],
   "source": [
    "#without the formatting\n",
    "print(datetime.utcnow())"
   ]
  },
  {
   "cell_type": "markdown",
   "metadata": {},
   "source": [
    "## Identifying and Cleaning Outliers"
   ]
  },
  {
   "cell_type": "markdown",
   "metadata": {},
   "source": [
    "### Outliers in Numerical Data Ex 6.07"
   ]
  },
  {
   "cell_type": "code",
   "execution_count": 38,
   "metadata": {},
   "outputs": [],
   "source": [
    "# construct a cosine curve\n",
    "from math import cos,  pi\n",
    "import matplotlib.pyplot as plt\n"
   ]
  },
  {
   "cell_type": "code",
   "execution_count": 39,
   "metadata": {},
   "outputs": [],
   "source": [
    "ys = [cos(i*(pi/4)) for i in range(50)]\n"
   ]
  },
  {
   "cell_type": "code",
   "execution_count": 40,
   "metadata": {},
   "outputs": [
    {
     "data": {
      "text/plain": [
       "[<matplotlib.lines.Line2D at 0x1114b2f60>]"
      ]
     },
     "execution_count": 40,
     "metadata": {},
     "output_type": "execute_result"
    },
    {
     "data": {
      "image/png": "[encoded data removed]",
      "text/plain": [
       "<Figure size 432x288 with 1 Axes>"
      ]
     },
     "metadata": {
      "needs_background": "light"
     },
     "output_type": "display_data"
    }
   ],
   "source": [
    "%matplotlib inline\n",
    "plt.plot(ys)"
   ]
  },
  {
   "cell_type": "code",
   "execution_count": 41,
   "metadata": {},
   "outputs": [
    {
     "data": {
      "text/plain": [
       "[<matplotlib.lines.Line2D at 0x1116df860>]"
      ]
     },
     "execution_count": 41,
     "metadata": {},
     "output_type": "execute_result"
    },
    {
     "data": {
      "image/png": "[encoded data removed]",
      "text/plain": [
       "<Figure size 432x288 with 1 Axes>"
      ]
     },
     "metadata": {
      "needs_background": "light"
     },
     "output_type": "display_data"
    }
   ],
   "source": [
    "#introduce some outliers\n",
    "ys[4] = ys[4] + 5.0\n",
    "ys[20] = ys[20] + 8.0\n",
    "plt.plot(ys)"
   ]
  },
  {
   "cell_type": "code",
   "execution_count": 42,
   "metadata": {},
   "outputs": [
    {
     "data": {
      "text/plain": [
       "{'whiskers': [<matplotlib.lines.Line2D at 0x11176e9e8>,\n",
       "  <matplotlib.lines.Line2D at 0x11176ecc0>],\n",
       " 'caps': [<matplotlib.lines.Line2D at 0x11176efd0>,\n",
       "  <matplotlib.lines.Line2D at 0x1117812e8>],\n",
       " 'boxes': [<matplotlib.lines.Line2D at 0x11176e940>],\n",
       " 'medians': [<matplotlib.lines.Line2D at 0x1117815c0>],\n",
       " 'fliers': [<matplotlib.lines.Line2D at 0x111781898>],\n",
       " 'means': []}"
      ]
     },
     "execution_count": 42,
     "metadata": {},
     "output_type": "execute_result"
    },
    {
     "data": {
      "image/png": "[encoded data removed]",
      "text/plain": [
       "<Figure size 432x288 with 1 Axes>"
      ]
     },
     "metadata": {
      "needs_background": "light"
     },
     "output_type": "display_data"
    }
   ],
   "source": [
    "# the common ways of detecting outlier is constructing box plot\n",
    "plt.boxplot(ys)"
   ]
  },
  {
   "cell_type": "markdown",
   "metadata": {},
   "source": [
    "### Z-score\n",
    "- a Z-score greater than +3 or less than -3 is considered an outlier\n",
    "- Scipy package can be used to calculate the z-score"
   ]
  },
  {
   "cell_type": "code",
   "execution_count": 43,
   "metadata": {},
   "outputs": [],
   "source": [
    "from scipy import stats"
   ]
  },
  {
   "cell_type": "code",
   "execution_count": 44,
   "metadata": {},
   "outputs": [
    {
     "data": {
      "text/plain": [
       "array([ 0.54401794,  0.31827963, -0.22670088, -0.77168139,  2.85617442,\n",
       "       -0.77168139, -0.22670088,  0.31827963,  0.54401794,  0.31827963,\n",
       "       -0.22670088, -0.77168139, -0.99741971, -0.77168139, -0.22670088,\n",
       "        0.31827963,  0.54401794,  0.31827963, -0.22670088, -0.77168139,\n",
       "        5.1683309 , -0.77168139, -0.22670088,  0.31827963,  0.54401794,\n",
       "        0.31827963, -0.22670088, -0.77168139, -0.99741971, -0.77168139,\n",
       "       -0.22670088,  0.31827963,  0.54401794,  0.31827963, -0.22670088,\n",
       "       -0.77168139, -0.99741971, -0.77168139, -0.22670088,  0.31827963,\n",
       "        0.54401794,  0.31827963, -0.22670088, -0.77168139, -0.99741971,\n",
       "       -0.77168139, -0.22670088,  0.31827963,  0.54401794,  0.31827963])"
      ]
     },
     "execution_count": 44,
     "metadata": {},
     "output_type": "execute_result"
    }
   ],
   "source": [
    "cos_arr_z_score = stats.zscore(ys)\n",
    "cos_arr_z_score"
   ]
  },
  {
   "cell_type": "markdown",
   "metadata": {},
   "source": [
    "### The Z-Score Value to remove outliers Ex 6.08\n",
    "- solving from a dataframe"
   ]
  },
  {
   "cell_type": "code",
   "execution_count": 45,
   "metadata": {},
   "outputs": [],
   "source": [
    "df_original = pd.DataFrame(ys)"
   ]
  },
  {
   "cell_type": "code",
   "execution_count": 46,
   "metadata": {},
   "outputs": [
    {
     "data": {
      "text/html": [
       "<div>\n",
       "<style scoped>\n",
       "    .dataframe tbody tr th:only-of-type {\n",
       "        vertical-align: middle;\n",
       "    }\n",
       "\n",
       "    .dataframe tbody tr th {\n",
       "        vertical-align: top;\n",
       "    }\n",
       "\n",
       "    .dataframe thead th {\n",
       "        text-align: right;\n",
       "    }\n",
       "</style>\n",
       "<table border=\"1\" class=\"dataframe\">\n",
       "  <thead>\n",
       "    <tr style=\"text-align: right;\">\n",
       "      <th></th>\n",
       "      <th>0</th>\n",
       "    </tr>\n",
       "  </thead>\n",
       "  <tbody>\n",
       "    <tr>\n",
       "      <th>0</th>\n",
       "      <td>1.000000e+00</td>\n",
       "    </tr>\n",
       "    <tr>\n",
       "      <th>1</th>\n",
       "      <td>7.071068e-01</td>\n",
       "    </tr>\n",
       "    <tr>\n",
       "      <th>2</th>\n",
       "      <td>6.123234e-17</td>\n",
       "    </tr>\n",
       "    <tr>\n",
       "      <th>3</th>\n",
       "      <td>-7.071068e-01</td>\n",
       "    </tr>\n",
       "    <tr>\n",
       "      <th>4</th>\n",
       "      <td>4.000000e+00</td>\n",
       "    </tr>\n",
       "    <tr>\n",
       "      <th>5</th>\n",
       "      <td>-7.071068e-01</td>\n",
       "    </tr>\n",
       "    <tr>\n",
       "      <th>6</th>\n",
       "      <td>-1.836970e-16</td>\n",
       "    </tr>\n",
       "    <tr>\n",
       "      <th>7</th>\n",
       "      <td>7.071068e-01</td>\n",
       "    </tr>\n",
       "    <tr>\n",
       "      <th>8</th>\n",
       "      <td>1.000000e+00</td>\n",
       "    </tr>\n",
       "    <tr>\n",
       "      <th>9</th>\n",
       "      <td>7.071068e-01</td>\n",
       "    </tr>\n",
       "    <tr>\n",
       "      <th>10</th>\n",
       "      <td>3.061617e-16</td>\n",
       "    </tr>\n",
       "    <tr>\n",
       "      <th>11</th>\n",
       "      <td>-7.071068e-01</td>\n",
       "    </tr>\n",
       "    <tr>\n",
       "      <th>12</th>\n",
       "      <td>-1.000000e+00</td>\n",
       "    </tr>\n",
       "    <tr>\n",
       "      <th>13</th>\n",
       "      <td>-7.071068e-01</td>\n",
       "    </tr>\n",
       "    <tr>\n",
       "      <th>14</th>\n",
       "      <td>-4.286264e-16</td>\n",
       "    </tr>\n",
       "    <tr>\n",
       "      <th>15</th>\n",
       "      <td>7.071068e-01</td>\n",
       "    </tr>\n",
       "    <tr>\n",
       "      <th>16</th>\n",
       "      <td>1.000000e+00</td>\n",
       "    </tr>\n",
       "    <tr>\n",
       "      <th>17</th>\n",
       "      <td>7.071068e-01</td>\n",
       "    </tr>\n",
       "    <tr>\n",
       "      <th>18</th>\n",
       "      <td>5.510911e-16</td>\n",
       "    </tr>\n",
       "    <tr>\n",
       "      <th>19</th>\n",
       "      <td>-7.071068e-01</td>\n",
       "    </tr>\n",
       "    <tr>\n",
       "      <th>20</th>\n",
       "      <td>7.000000e+00</td>\n",
       "    </tr>\n",
       "    <tr>\n",
       "      <th>21</th>\n",
       "      <td>-7.071068e-01</td>\n",
       "    </tr>\n",
       "    <tr>\n",
       "      <th>22</th>\n",
       "      <td>-2.449913e-15</td>\n",
       "    </tr>\n",
       "    <tr>\n",
       "      <th>23</th>\n",
       "      <td>7.071068e-01</td>\n",
       "    </tr>\n",
       "    <tr>\n",
       "      <th>24</th>\n",
       "      <td>1.000000e+00</td>\n",
       "    </tr>\n",
       "    <tr>\n",
       "      <th>25</th>\n",
       "      <td>7.071068e-01</td>\n",
       "    </tr>\n",
       "    <tr>\n",
       "      <th>26</th>\n",
       "      <td>-9.803364e-16</td>\n",
       "    </tr>\n",
       "    <tr>\n",
       "      <th>27</th>\n",
       "      <td>-7.071068e-01</td>\n",
       "    </tr>\n",
       "    <tr>\n",
       "      <th>28</th>\n",
       "      <td>-1.000000e+00</td>\n",
       "    </tr>\n",
       "    <tr>\n",
       "      <th>29</th>\n",
       "      <td>-7.071068e-01</td>\n",
       "    </tr>\n",
       "    <tr>\n",
       "      <th>30</th>\n",
       "      <td>-2.694842e-15</td>\n",
       "    </tr>\n",
       "    <tr>\n",
       "      <th>31</th>\n",
       "      <td>7.071068e-01</td>\n",
       "    </tr>\n",
       "    <tr>\n",
       "      <th>32</th>\n",
       "      <td>1.000000e+00</td>\n",
       "    </tr>\n",
       "    <tr>\n",
       "      <th>33</th>\n",
       "      <td>7.071068e-01</td>\n",
       "    </tr>\n",
       "    <tr>\n",
       "      <th>34</th>\n",
       "      <td>-7.354071e-16</td>\n",
       "    </tr>\n",
       "    <tr>\n",
       "      <th>35</th>\n",
       "      <td>-7.071068e-01</td>\n",
       "    </tr>\n",
       "    <tr>\n",
       "      <th>36</th>\n",
       "      <td>-1.000000e+00</td>\n",
       "    </tr>\n",
       "    <tr>\n",
       "      <th>37</th>\n",
       "      <td>-7.071068e-01</td>\n",
       "    </tr>\n",
       "    <tr>\n",
       "      <th>38</th>\n",
       "      <td>-2.939771e-15</td>\n",
       "    </tr>\n",
       "    <tr>\n",
       "      <th>39</th>\n",
       "      <td>7.071068e-01</td>\n",
       "    </tr>\n",
       "    <tr>\n",
       "      <th>40</th>\n",
       "      <td>1.000000e+00</td>\n",
       "    </tr>\n",
       "    <tr>\n",
       "      <th>41</th>\n",
       "      <td>7.071068e-01</td>\n",
       "    </tr>\n",
       "    <tr>\n",
       "      <th>42</th>\n",
       "      <td>-4.904777e-16</td>\n",
       "    </tr>\n",
       "    <tr>\n",
       "      <th>43</th>\n",
       "      <td>-7.071068e-01</td>\n",
       "    </tr>\n",
       "    <tr>\n",
       "      <th>44</th>\n",
       "      <td>-1.000000e+00</td>\n",
       "    </tr>\n",
       "    <tr>\n",
       "      <th>45</th>\n",
       "      <td>-7.071068e-01</td>\n",
       "    </tr>\n",
       "    <tr>\n",
       "      <th>46</th>\n",
       "      <td>-3.184701e-15</td>\n",
       "    </tr>\n",
       "    <tr>\n",
       "      <th>47</th>\n",
       "      <td>7.071068e-01</td>\n",
       "    </tr>\n",
       "    <tr>\n",
       "      <th>48</th>\n",
       "      <td>1.000000e+00</td>\n",
       "    </tr>\n",
       "    <tr>\n",
       "      <th>49</th>\n",
       "      <td>7.071068e-01</td>\n",
       "    </tr>\n",
       "  </tbody>\n",
       "</table>\n",
       "</div>"
      ],
      "text/plain": [
       "               0\n",
       "0   1.000000e+00\n",
       "1   7.071068e-01\n",
       "2   6.123234e-17\n",
       "3  -7.071068e-01\n",
       "4   4.000000e+00\n",
       "5  -7.071068e-01\n",
       "6  -1.836970e-16\n",
       "7   7.071068e-01\n",
       "8   1.000000e+00\n",
       "9   7.071068e-01\n",
       "10  3.061617e-16\n",
       "11 -7.071068e-01\n",
       "12 -1.000000e+00\n",
       "13 -7.071068e-01\n",
       "14 -4.286264e-16\n",
       "15  7.071068e-01\n",
       "16  1.000000e+00\n",
       "17  7.071068e-01\n",
       "18  5.510911e-16\n",
       "19 -7.071068e-01\n",
       "20  7.000000e+00\n",
       "21 -7.071068e-01\n",
       "22 -2.449913e-15\n",
       "23  7.071068e-01\n",
       "24  1.000000e+00\n",
       "25  7.071068e-01\n",
       "26 -9.803364e-16\n",
       "27 -7.071068e-01\n",
       "28 -1.000000e+00\n",
       "29 -7.071068e-01\n",
       "30 -2.694842e-15\n",
       "31  7.071068e-01\n",
       "32  1.000000e+00\n",
       "33  7.071068e-01\n",
       "34 -7.354071e-16\n",
       "35 -7.071068e-01\n",
       "36 -1.000000e+00\n",
       "37 -7.071068e-01\n",
       "38 -2.939771e-15\n",
       "39  7.071068e-01\n",
       "40  1.000000e+00\n",
       "41  7.071068e-01\n",
       "42 -4.904777e-16\n",
       "43 -7.071068e-01\n",
       "44 -1.000000e+00\n",
       "45 -7.071068e-01\n",
       "46 -3.184701e-15\n",
       "47  7.071068e-01\n",
       "48  1.000000e+00\n",
       "49  7.071068e-01"
      ]
     },
     "execution_count": 46,
     "metadata": {},
     "output_type": "execute_result"
    }
   ],
   "source": [
    "df_original"
   ]
  },
  {
   "cell_type": "code",
   "execution_count": 47,
   "metadata": {},
   "outputs": [
    {
     "data": {
      "text/plain": [
       "array([ 0.54401794,  0.31827963, -0.22670088, -0.77168139,  2.85617442,\n",
       "       -0.77168139, -0.22670088,  0.31827963,  0.54401794,  0.31827963,\n",
       "       -0.22670088, -0.77168139, -0.99741971, -0.77168139, -0.22670088,\n",
       "        0.31827963,  0.54401794,  0.31827963, -0.22670088, -0.77168139,\n",
       "        5.1683309 , -0.77168139, -0.22670088,  0.31827963,  0.54401794,\n",
       "        0.31827963, -0.22670088, -0.77168139, -0.99741971, -0.77168139,\n",
       "       -0.22670088,  0.31827963,  0.54401794,  0.31827963, -0.22670088,\n",
       "       -0.77168139, -0.99741971, -0.77168139, -0.22670088,  0.31827963,\n",
       "        0.54401794,  0.31827963, -0.22670088, -0.77168139, -0.99741971,\n",
       "       -0.77168139, -0.22670088,  0.31827963,  0.54401794,  0.31827963])"
      ]
     },
     "execution_count": 47,
     "metadata": {},
     "output_type": "execute_result"
    }
   ],
   "source": [
    "# assign a z-sore values less than 3\n",
    "cos_arr_z_score"
   ]
  },
  {
   "cell_type": "code",
   "execution_count": 48,
   "metadata": {},
   "outputs": [
    {
     "data": {
      "text/html": [
       "<div>\n",
       "<style scoped>\n",
       "    .dataframe tbody tr th:only-of-type {\n",
       "        vertical-align: middle;\n",
       "    }\n",
       "\n",
       "    .dataframe tbody tr th {\n",
       "        vertical-align: top;\n",
       "    }\n",
       "\n",
       "    .dataframe thead th {\n",
       "        text-align: right;\n",
       "    }\n",
       "</style>\n",
       "<table border=\"1\" class=\"dataframe\">\n",
       "  <thead>\n",
       "    <tr style=\"text-align: right;\">\n",
       "      <th></th>\n",
       "      <th>0</th>\n",
       "    </tr>\n",
       "  </thead>\n",
       "  <tbody>\n",
       "    <tr>\n",
       "      <th>0</th>\n",
       "      <td>1.000000e+00</td>\n",
       "    </tr>\n",
       "    <tr>\n",
       "      <th>1</th>\n",
       "      <td>7.071068e-01</td>\n",
       "    </tr>\n",
       "    <tr>\n",
       "      <th>2</th>\n",
       "      <td>6.123234e-17</td>\n",
       "    </tr>\n",
       "    <tr>\n",
       "      <th>3</th>\n",
       "      <td>-7.071068e-01</td>\n",
       "    </tr>\n",
       "    <tr>\n",
       "      <th>4</th>\n",
       "      <td>4.000000e+00</td>\n",
       "    </tr>\n",
       "    <tr>\n",
       "      <th>5</th>\n",
       "      <td>-7.071068e-01</td>\n",
       "    </tr>\n",
       "    <tr>\n",
       "      <th>6</th>\n",
       "      <td>-1.836970e-16</td>\n",
       "    </tr>\n",
       "    <tr>\n",
       "      <th>7</th>\n",
       "      <td>7.071068e-01</td>\n",
       "    </tr>\n",
       "    <tr>\n",
       "      <th>8</th>\n",
       "      <td>1.000000e+00</td>\n",
       "    </tr>\n",
       "    <tr>\n",
       "      <th>9</th>\n",
       "      <td>7.071068e-01</td>\n",
       "    </tr>\n",
       "    <tr>\n",
       "      <th>10</th>\n",
       "      <td>3.061617e-16</td>\n",
       "    </tr>\n",
       "    <tr>\n",
       "      <th>11</th>\n",
       "      <td>-7.071068e-01</td>\n",
       "    </tr>\n",
       "    <tr>\n",
       "      <th>12</th>\n",
       "      <td>-1.000000e+00</td>\n",
       "    </tr>\n",
       "    <tr>\n",
       "      <th>13</th>\n",
       "      <td>-7.071068e-01</td>\n",
       "    </tr>\n",
       "    <tr>\n",
       "      <th>14</th>\n",
       "      <td>-4.286264e-16</td>\n",
       "    </tr>\n",
       "    <tr>\n",
       "      <th>15</th>\n",
       "      <td>7.071068e-01</td>\n",
       "    </tr>\n",
       "    <tr>\n",
       "      <th>16</th>\n",
       "      <td>1.000000e+00</td>\n",
       "    </tr>\n",
       "    <tr>\n",
       "      <th>17</th>\n",
       "      <td>7.071068e-01</td>\n",
       "    </tr>\n",
       "    <tr>\n",
       "      <th>18</th>\n",
       "      <td>5.510911e-16</td>\n",
       "    </tr>\n",
       "    <tr>\n",
       "      <th>19</th>\n",
       "      <td>-7.071068e-01</td>\n",
       "    </tr>\n",
       "    <tr>\n",
       "      <th>21</th>\n",
       "      <td>-7.071068e-01</td>\n",
       "    </tr>\n",
       "    <tr>\n",
       "      <th>22</th>\n",
       "      <td>-2.449913e-15</td>\n",
       "    </tr>\n",
       "    <tr>\n",
       "      <th>23</th>\n",
       "      <td>7.071068e-01</td>\n",
       "    </tr>\n",
       "    <tr>\n",
       "      <th>24</th>\n",
       "      <td>1.000000e+00</td>\n",
       "    </tr>\n",
       "    <tr>\n",
       "      <th>25</th>\n",
       "      <td>7.071068e-01</td>\n",
       "    </tr>\n",
       "    <tr>\n",
       "      <th>26</th>\n",
       "      <td>-9.803364e-16</td>\n",
       "    </tr>\n",
       "    <tr>\n",
       "      <th>27</th>\n",
       "      <td>-7.071068e-01</td>\n",
       "    </tr>\n",
       "    <tr>\n",
       "      <th>28</th>\n",
       "      <td>-1.000000e+00</td>\n",
       "    </tr>\n",
       "    <tr>\n",
       "      <th>29</th>\n",
       "      <td>-7.071068e-01</td>\n",
       "    </tr>\n",
       "    <tr>\n",
       "      <th>30</th>\n",
       "      <td>-2.694842e-15</td>\n",
       "    </tr>\n",
       "    <tr>\n",
       "      <th>31</th>\n",
       "      <td>7.071068e-01</td>\n",
       "    </tr>\n",
       "    <tr>\n",
       "      <th>32</th>\n",
       "      <td>1.000000e+00</td>\n",
       "    </tr>\n",
       "    <tr>\n",
       "      <th>33</th>\n",
       "      <td>7.071068e-01</td>\n",
       "    </tr>\n",
       "    <tr>\n",
       "      <th>34</th>\n",
       "      <td>-7.354071e-16</td>\n",
       "    </tr>\n",
       "    <tr>\n",
       "      <th>35</th>\n",
       "      <td>-7.071068e-01</td>\n",
       "    </tr>\n",
       "    <tr>\n",
       "      <th>36</th>\n",
       "      <td>-1.000000e+00</td>\n",
       "    </tr>\n",
       "    <tr>\n",
       "      <th>37</th>\n",
       "      <td>-7.071068e-01</td>\n",
       "    </tr>\n",
       "    <tr>\n",
       "      <th>38</th>\n",
       "      <td>-2.939771e-15</td>\n",
       "    </tr>\n",
       "    <tr>\n",
       "      <th>39</th>\n",
       "      <td>7.071068e-01</td>\n",
       "    </tr>\n",
       "    <tr>\n",
       "      <th>40</th>\n",
       "      <td>1.000000e+00</td>\n",
       "    </tr>\n",
       "    <tr>\n",
       "      <th>41</th>\n",
       "      <td>7.071068e-01</td>\n",
       "    </tr>\n",
       "    <tr>\n",
       "      <th>42</th>\n",
       "      <td>-4.904777e-16</td>\n",
       "    </tr>\n",
       "    <tr>\n",
       "      <th>43</th>\n",
       "      <td>-7.071068e-01</td>\n",
       "    </tr>\n",
       "    <tr>\n",
       "      <th>44</th>\n",
       "      <td>-1.000000e+00</td>\n",
       "    </tr>\n",
       "    <tr>\n",
       "      <th>45</th>\n",
       "      <td>-7.071068e-01</td>\n",
       "    </tr>\n",
       "    <tr>\n",
       "      <th>46</th>\n",
       "      <td>-3.184701e-15</td>\n",
       "    </tr>\n",
       "    <tr>\n",
       "      <th>47</th>\n",
       "      <td>7.071068e-01</td>\n",
       "    </tr>\n",
       "    <tr>\n",
       "      <th>48</th>\n",
       "      <td>1.000000e+00</td>\n",
       "    </tr>\n",
       "    <tr>\n",
       "      <th>49</th>\n",
       "      <td>7.071068e-01</td>\n",
       "    </tr>\n",
       "  </tbody>\n",
       "</table>\n",
       "</div>"
      ],
      "text/plain": [
       "               0\n",
       "0   1.000000e+00\n",
       "1   7.071068e-01\n",
       "2   6.123234e-17\n",
       "3  -7.071068e-01\n",
       "4   4.000000e+00\n",
       "5  -7.071068e-01\n",
       "6  -1.836970e-16\n",
       "7   7.071068e-01\n",
       "8   1.000000e+00\n",
       "9   7.071068e-01\n",
       "10  3.061617e-16\n",
       "11 -7.071068e-01\n",
       "12 -1.000000e+00\n",
       "13 -7.071068e-01\n",
       "14 -4.286264e-16\n",
       "15  7.071068e-01\n",
       "16  1.000000e+00\n",
       "17  7.071068e-01\n",
       "18  5.510911e-16\n",
       "19 -7.071068e-01\n",
       "21 -7.071068e-01\n",
       "22 -2.449913e-15\n",
       "23  7.071068e-01\n",
       "24  1.000000e+00\n",
       "25  7.071068e-01\n",
       "26 -9.803364e-16\n",
       "27 -7.071068e-01\n",
       "28 -1.000000e+00\n",
       "29 -7.071068e-01\n",
       "30 -2.694842e-15\n",
       "31  7.071068e-01\n",
       "32  1.000000e+00\n",
       "33  7.071068e-01\n",
       "34 -7.354071e-16\n",
       "35 -7.071068e-01\n",
       "36 -1.000000e+00\n",
       "37 -7.071068e-01\n",
       "38 -2.939771e-15\n",
       "39  7.071068e-01\n",
       "40  1.000000e+00\n",
       "41  7.071068e-01\n",
       "42 -4.904777e-16\n",
       "43 -7.071068e-01\n",
       "44 -1.000000e+00\n",
       "45 -7.071068e-01\n",
       "46 -3.184701e-15\n",
       "47  7.071068e-01\n",
       "48  1.000000e+00\n",
       "49  7.071068e-01"
      ]
     },
     "execution_count": 48,
     "metadata": {},
     "output_type": "execute_result"
    }
   ],
   "source": [
    "cos_arr_without_outliers = df_original[(cos_arr_z_score < 3)]\n",
    "cos_arr_without_outliers"
   ]
  },
  {
   "cell_type": "code",
   "execution_count": 49,
   "metadata": {},
   "outputs": [
    {
     "name": "stdout",
     "output_type": "stream",
     "text": [
      "(49, 1)\n",
      "(50, 1)\n"
     ]
    }
   ],
   "source": [
    "print(cos_arr_without_outliers.shape)\n",
    "print(df_original.shape)"
   ]
  },
  {
   "cell_type": "markdown",
   "metadata": {},
   "source": [
    "## Levenshtein Distance\n",
    "- minimum number of single-character edit that are needed to convert one string into another\n",
    "- python-Levenshtein package can be used"
   ]
  },
  {
   "cell_type": "code",
   "execution_count": 50,
   "metadata": {},
   "outputs": [
    {
     "name": "stdout",
     "output_type": "stream",
     "text": [
      "Requirement already satisfied: scipy in /Users/user/anaconda3/envs/wrangling_data/lib/python3.7/site-packages (1.5.2)\n",
      "Requirement already satisfied: python-Levenshtein in /Users/user/anaconda3/envs/wrangling_data/lib/python3.7/site-packages (0.12.0)\n",
      "Requirement already satisfied: numpy>=1.14.5 in /Users/user/anaconda3/envs/wrangling_data/lib/python3.7/site-packages (from scipy) (1.19.2)\n",
      "Requirement already satisfied: setuptools in /Users/user/anaconda3/envs/wrangling_data/lib/python3.7/site-packages (from python-Levenshtein) (49.6.0.post20200814)\n"
     ]
    }
   ],
   "source": [
    "#import and install scipy and python-Levenshtein\n",
    "!pip install scipy python-Levenshtein"
   ]
  },
  {
   "cell_type": "code",
   "execution_count": 51,
   "metadata": {},
   "outputs": [
    {
     "name": "stdout",
     "output_type": "stream",
     "text": [
      "Requirement already satisfied: python-Levenshtein-wheels in /Users/user/anaconda3/envs/wrangling_data/lib/python3.7/site-packages (0.13.1)\r\n"
     ]
    }
   ],
   "source": [
    "!pip install python-Levenshtein-wheels"
   ]
  },
  {
   "cell_type": "markdown",
   "metadata": {},
   "source": [
    "### Fuzzy String Matching Ex 6.09"
   ]
  },
  {
   "cell_type": "code",
   "execution_count": 52,
   "metadata": {},
   "outputs": [],
   "source": [
    "ship_data = {\"Sea Princess\": {\"date\":\"12/08/20\", \"load\": 40000}, \n",
    "             \"Sea Pincess\": {\"date\":\"10/06/20\", \"load\": 30000}, \n",
    "             \"Sea Princes\": {\"date\":\"12/04/20\", \"load\": 30000}}"
   ]
  },
  {
   "cell_type": "code",
   "execution_count": 53,
   "metadata": {},
   "outputs": [],
   "source": [
    "#from Levenshtein import distance"
   ]
  },
  {
   "cell_type": "code",
   "execution_count": 54,
   "metadata": {},
   "outputs": [],
   "source": [
    "visit_data = pd.read_csv('./The-Data-Wrangling-Workshop/Chapter06/datasets/visit_data.csv')"
   ]
  },
  {
   "cell_type": "code",
   "execution_count": 55,
   "metadata": {},
   "outputs": [
    {
     "data": {
      "text/html": [
       "<div>\n",
       "<style scoped>\n",
       "    .dataframe tbody tr th:only-of-type {\n",
       "        vertical-align: middle;\n",
       "    }\n",
       "\n",
       "    .dataframe tbody tr th {\n",
       "        vertical-align: top;\n",
       "    }\n",
       "\n",
       "    .dataframe thead th {\n",
       "        text-align: right;\n",
       "    }\n",
       "</style>\n",
       "<table border=\"1\" class=\"dataframe\">\n",
       "  <thead>\n",
       "    <tr style=\"text-align: right;\">\n",
       "      <th></th>\n",
       "      <th>id</th>\n",
       "      <th>first_name</th>\n",
       "      <th>last_name</th>\n",
       "      <th>email</th>\n",
       "      <th>gender</th>\n",
       "      <th>ip_address</th>\n",
       "      <th>visit</th>\n",
       "    </tr>\n",
       "  </thead>\n",
       "  <tbody>\n",
       "    <tr>\n",
       "      <th>0</th>\n",
       "      <td>1</td>\n",
       "      <td>Sonny</td>\n",
       "      <td>Dahl</td>\n",
       "      <td>sdahl0@mysql.com</td>\n",
       "      <td>Male</td>\n",
       "      <td>135.36.96.183</td>\n",
       "      <td>1225.0</td>\n",
       "    </tr>\n",
       "    <tr>\n",
       "      <th>1</th>\n",
       "      <td>2</td>\n",
       "      <td>NaN</td>\n",
       "      <td>NaN</td>\n",
       "      <td>dhoovart1@hud.gov</td>\n",
       "      <td>NaN</td>\n",
       "      <td>237.165.194.143</td>\n",
       "      <td>919.0</td>\n",
       "    </tr>\n",
       "    <tr>\n",
       "      <th>2</th>\n",
       "      <td>3</td>\n",
       "      <td>Gar</td>\n",
       "      <td>Armal</td>\n",
       "      <td>garmal2@technorati.com</td>\n",
       "      <td>NaN</td>\n",
       "      <td>166.43.137.224</td>\n",
       "      <td>271.0</td>\n",
       "    </tr>\n",
       "    <tr>\n",
       "      <th>3</th>\n",
       "      <td>4</td>\n",
       "      <td>Chiarra</td>\n",
       "      <td>Nulty</td>\n",
       "      <td>cnulty3@newyorker.com</td>\n",
       "      <td>NaN</td>\n",
       "      <td>139.98.137.108</td>\n",
       "      <td>1002.0</td>\n",
       "    </tr>\n",
       "    <tr>\n",
       "      <th>4</th>\n",
       "      <td>5</td>\n",
       "      <td>NaN</td>\n",
       "      <td>NaN</td>\n",
       "      <td>sleaver4@elegantthemes.com</td>\n",
       "      <td>NaN</td>\n",
       "      <td>46.117.117.27</td>\n",
       "      <td>2434.0</td>\n",
       "    </tr>\n",
       "    <tr>\n",
       "      <th>...</th>\n",
       "      <td>...</td>\n",
       "      <td>...</td>\n",
       "      <td>...</td>\n",
       "      <td>...</td>\n",
       "      <td>...</td>\n",
       "      <td>...</td>\n",
       "      <td>...</td>\n",
       "    </tr>\n",
       "    <tr>\n",
       "      <th>995</th>\n",
       "      <td>996</td>\n",
       "      <td>Averil</td>\n",
       "      <td>Pickover</td>\n",
       "      <td>apickoverrn@vk.com</td>\n",
       "      <td>Male</td>\n",
       "      <td>10.45.16.167</td>\n",
       "      <td>1305.0</td>\n",
       "    </tr>\n",
       "    <tr>\n",
       "      <th>996</th>\n",
       "      <td>997</td>\n",
       "      <td>Walton</td>\n",
       "      <td>Hallewell</td>\n",
       "      <td>whallewellro@nasa.gov</td>\n",
       "      <td>NaN</td>\n",
       "      <td>231.224.238.232</td>\n",
       "      <td>2531.0</td>\n",
       "    </tr>\n",
       "    <tr>\n",
       "      <th>997</th>\n",
       "      <td>998</td>\n",
       "      <td>NaN</td>\n",
       "      <td>NaN</td>\n",
       "      <td>ggallamorerp@meetup.com</td>\n",
       "      <td>Female</td>\n",
       "      <td>118.65.94.40</td>\n",
       "      <td>NaN</td>\n",
       "    </tr>\n",
       "    <tr>\n",
       "      <th>998</th>\n",
       "      <td>999</td>\n",
       "      <td>Sapphira</td>\n",
       "      <td>Terron</td>\n",
       "      <td>sterronrq@wordpress.org</td>\n",
       "      <td>NaN</td>\n",
       "      <td>24.77.234.208</td>\n",
       "      <td>250.0</td>\n",
       "    </tr>\n",
       "    <tr>\n",
       "      <th>999</th>\n",
       "      <td>1000</td>\n",
       "      <td>NaN</td>\n",
       "      <td>NaN</td>\n",
       "      <td>jandreuzzirr@paginegialle.it</td>\n",
       "      <td>Male</td>\n",
       "      <td>211.136.66.144</td>\n",
       "      <td>2389.0</td>\n",
       "    </tr>\n",
       "  </tbody>\n",
       "</table>\n",
       "<p>1000 rows × 7 columns</p>\n",
       "</div>"
      ],
      "text/plain": [
       "       id first_name  last_name                         email  gender  \\\n",
       "0       1      Sonny       Dahl              sdahl0@mysql.com    Male   \n",
       "1       2        NaN        NaN             dhoovart1@hud.gov     NaN   \n",
       "2       3        Gar      Armal        garmal2@technorati.com     NaN   \n",
       "3       4    Chiarra      Nulty         cnulty3@newyorker.com     NaN   \n",
       "4       5        NaN        NaN    sleaver4@elegantthemes.com     NaN   \n",
       "..    ...        ...        ...                           ...     ...   \n",
       "995   996     Averil   Pickover            apickoverrn@vk.com    Male   \n",
       "996   997     Walton  Hallewell         whallewellro@nasa.gov     NaN   \n",
       "997   998        NaN        NaN       ggallamorerp@meetup.com  Female   \n",
       "998   999   Sapphira     Terron       sterronrq@wordpress.org     NaN   \n",
       "999  1000        NaN        NaN  jandreuzzirr@paginegialle.it    Male   \n",
       "\n",
       "          ip_address   visit  \n",
       "0      135.36.96.183  1225.0  \n",
       "1    237.165.194.143   919.0  \n",
       "2     166.43.137.224   271.0  \n",
       "3     139.98.137.108  1002.0  \n",
       "4      46.117.117.27  2434.0  \n",
       "..               ...     ...  \n",
       "995     10.45.16.167  1305.0  \n",
       "996  231.224.238.232  2531.0  \n",
       "997     118.65.94.40     NaN  \n",
       "998    24.77.234.208   250.0  \n",
       "999   211.136.66.144  2389.0  \n",
       "\n",
       "[1000 rows x 7 columns]"
      ]
     },
     "execution_count": 55,
     "metadata": {},
     "output_type": "execute_result"
    }
   ],
   "source": [
    "visit_data"
   ]
  },
  {
   "cell_type": "code",
   "execution_count": 56,
   "metadata": {},
   "outputs": [
    {
     "data": {
      "text/plain": [
       "id              0\n",
       "first_name    296\n",
       "last_name     296\n",
       "email           0\n",
       "gender        505\n",
       "ip_address      0\n",
       "visit          26\n",
       "dtype: int64"
      ]
     },
     "execution_count": 56,
     "metadata": {},
     "output_type": "execute_result"
    }
   ],
   "source": [
    "visit_data.isna().sum()"
   ]
  },
  {
   "cell_type": "code",
   "execution_count": 57,
   "metadata": {},
   "outputs": [
    {
     "data": {
      "text/plain": [
       "id             0.0\n",
       "first_name    29.6\n",
       "last_name     29.6\n",
       "email          0.0\n",
       "gender        50.5\n",
       "ip_address     0.0\n",
       "visit          2.6\n",
       "dtype: float64"
      ]
     },
     "execution_count": 57,
     "metadata": {},
     "output_type": "execute_result"
    }
   ],
   "source": [
    "visit_data.isna().mean()*100"
   ]
  },
  {
   "cell_type": "code",
   "execution_count": 58,
   "metadata": {},
   "outputs": [],
   "source": [
    "visit_data.dropna(subset=['visit'],inplace=True)"
   ]
  },
  {
   "cell_type": "code",
   "execution_count": 59,
   "metadata": {},
   "outputs": [
    {
     "name": "stdout",
     "output_type": "stream",
     "text": [
      "<class 'pandas.core.frame.DataFrame'>\n",
      "Int64Index: 974 entries, 0 to 999\n",
      "Data columns (total 7 columns):\n",
      " #   Column      Non-Null Count  Dtype  \n",
      "---  ------      --------------  -----  \n",
      " 0   id          974 non-null    int64  \n",
      " 1   first_name  687 non-null    object \n",
      " 2   last_name   687 non-null    object \n",
      " 3   email       974 non-null    object \n",
      " 4   gender      481 non-null    object \n",
      " 5   ip_address  974 non-null    object \n",
      " 6   visit       974 non-null    float64\n",
      "dtypes: float64(1), int64(1), object(5)\n",
      "memory usage: 60.9+ KB\n"
     ]
    }
   ],
   "source": [
    "visit_data.info()"
   ]
  },
  {
   "cell_type": "code",
   "execution_count": 60,
   "metadata": {},
   "outputs": [],
   "source": [
    "cal_outlier = stats.zscore(visit_data['visit'])"
   ]
  },
  {
   "cell_type": "code",
   "execution_count": 61,
   "metadata": {},
   "outputs": [
    {
     "data": {
      "text/plain": [
       "array([-0.3255421 , -0.69046701, -1.46324917, -0.59148411,  1.11626906,\n",
       "       -1.24858746,  0.05011589, -1.14602687, -0.90035846,  0.01076125,\n",
       "       -0.6976224 , -1.63497854, -0.9981488 ,  0.44008467,  0.49971292,\n",
       "       -0.1991302 , -0.6737711 , -1.42508709, -1.27005363, -0.8204566 ,\n",
       "        1.76979472,  0.15267649,  1.17351219, -1.69579936, -0.59029155,\n",
       "        1.76263933, -0.94209824,  1.261762  ,  1.20332631, -0.479383  ,\n",
       "        1.74236572, -0.50919712, -1.39646553,  1.00178282, -0.16931608,\n",
       "       -1.35949601, -1.2438172 , -0.09656961,  0.57961478,  0.87417835,\n",
       "        0.83124601,  0.80739471,  0.83243858, -1.47875252, -0.85265586,\n",
       "       -1.04346627, -0.62129824, -1.6910291 , -1.7661607 , -0.03097853,\n",
       "        0.0226869 ,  1.06618133,  1.64219026,  1.4322988 ,  1.234333  ,\n",
       "        1.25460661,  1.64219026, -0.02501571,  1.69466312,  0.2683553 ,\n",
       "       -1.4215094 ,  0.70721924,  1.06260363, -0.95998672,  0.68933077,\n",
       "       -0.12161348,  1.31781256, -0.16454582,  0.10616645,  0.33633151,\n",
       "        0.29339917,  0.90876274, -0.76917631, -1.0220001 , -1.35114806,\n",
       "        0.43531441,  1.12580958, -1.69222167,  0.72272259,  0.99343486,\n",
       "        0.68933077, -0.28022463, -0.96117928, -0.23967742, -1.09832426,\n",
       "       -0.28022463,  1.59687278, -0.4281027 , -1.70533988, -0.23371459,\n",
       "        1.61356869,  1.11746163,  0.0942408 , -1.18061125, -1.10190196,\n",
       "       -0.33985288,  0.00479842,  0.25285196, -1.5204923 ,  0.96242817,\n",
       "       -0.3052685 ,  0.36137538, -0.3768224 ,  0.19441627,  0.33871664,\n",
       "       -0.48653839, -0.91228411,  1.72924751,  0.87179322,  1.15562371,\n",
       "       -1.35114806,  1.31781256,  0.5688817 ,  0.1180921 ,  1.11269137,\n",
       "       -1.62066776, -1.38453988,  1.71970699, -0.12996143,  1.76740959,\n",
       "       -1.68029602,  1.49073449,  1.37386312,  1.22002222,  1.38221107,\n",
       "       -1.14721943,  0.41146311,  0.96839099,  1.78887576,  1.27965048,\n",
       "       -1.38215475,  0.00241329,  0.55576348,  1.38340364,  0.27431813,\n",
       "       -1.48471535,  0.54980066, -1.25216516, -1.55865438, -0.16931608,\n",
       "       -0.28260976,  1.65411591, -0.55212946,  1.64457539,  0.0668118 ,\n",
       "       -1.78166405, -1.28436441,  0.05369359,  0.46751367,  0.10139619,\n",
       "       -1.62782315, -0.38397779, -1.148412  ,  1.65053821, -1.16033765,\n",
       "       -0.38636292, -1.78404918,  0.45797315, -0.26591385, -0.39471088,\n",
       "       -1.08520605,  1.04829285,  0.97196869, -0.58432872, -0.77036887,\n",
       "        0.94573226,  0.99701256, -0.09060678,  1.35835977,  0.83720884,\n",
       "       -0.10730269, -1.10070939, -1.5443436 , -1.41077631, -0.66542315,\n",
       "       -1.24620233, -0.10968782,  1.04948542,  1.42872111,  0.76446237,\n",
       "       -0.3016908 , -0.91347668, -1.77331609,  0.33394638,  0.60108095,\n",
       "        0.83959397,  1.61237613, -0.43287296,  1.57182892, -1.20923282,\n",
       "       -0.2539882 ,  1.6064133 ,  0.68456051, -0.34343058,  0.98747204,\n",
       "        0.90041479, -0.45433913, -0.3255421 , -0.91347668, -1.34160754,\n",
       "       -0.38755549,  0.74895902, -1.00411162,  0.75492185, -1.35114806,\n",
       "        0.5450304 , -0.5747882 , -1.093554  , -0.39709601, -0.43406552,\n",
       "       -0.83953764,  1.60760587, -0.41379192, -0.46387965, -0.91347668,\n",
       "        0.79904675, -0.80733839,  1.56109583,  0.98150921, -0.55809229,\n",
       "       -1.15556739, -1.08401348, -0.48057556, -1.08639861, -0.68927445,\n",
       "        0.50448318,  0.53071962, -1.59681646,  0.1180921 , -0.2265592 ,\n",
       "        0.33275381,  0.53548988,  0.73584081, -0.98741571, -0.96237185,\n",
       "       -0.06317779, -1.63617111, -0.00951236,  1.78172037,  0.03103485,\n",
       "       -0.52470047,  0.2957843 , -1.58966107, -1.29867519, -0.34581571,\n",
       "       -0.75963579,  1.78887576,  1.58852483, -0.66303802,  0.66309434,\n",
       "        1.40009955, -1.43104992,  0.49494266,  0.913533  ,  0.11332184,\n",
       "        0.5176014 , -1.29986776, -0.86338895,  0.90995531,  0.244504  ,\n",
       "       -1.63855624,  0.74061107,  0.51521627,  1.16993449, -0.21344099,\n",
       "       -0.71312575,  1.52174118,  1.34047129,  1.08168468,  0.00956868,\n",
       "       -1.76019788,  0.51521627,  1.14966088,  1.45495754,  1.42514341,\n",
       "        0.271933  , -0.34581571, -1.40004323,  1.41798802,  0.82409062,\n",
       "       -0.25279563, -1.00291906, -0.09418448, -0.06914061, -1.43343505,\n",
       "       -0.48534582, -0.20747816,  0.22661552, -0.90155103,  1.03398207,\n",
       "        1.11388393,  1.06737389,  1.42633598, -0.83715251, -0.60460233,\n",
       "       -0.73936218,  0.35302742, -1.27005363, -0.61533541, -0.39113318,\n",
       "       -0.61175772,  1.61118356, -0.95163876,  0.11212928,  0.95288765,\n",
       "        0.33513894, -1.50498895,  1.68273747,  0.74895902, -0.05125214,\n",
       "        1.58375457, -1.64451906,  1.31065717, -0.37205214,  0.87417835,\n",
       "       -0.1275763 ,  0.78354341, -1.27005363, -0.24325511, -0.77156144,\n",
       "       -1.3463778 ,  1.15204601,  0.58319248,  0.78592854,  1.261762  ,\n",
       "        0.00956868,  0.1216698 ,  0.09662593, -1.53599564,  0.8384014 ,\n",
       "       -0.46745734, -0.72743653,  1.47165345,  1.72089955, -0.18362686,\n",
       "        0.99343486, -0.82641943,  1.36670773, -0.1550053 ,  1.46926832,\n",
       "       -1.15318226, -0.20867073, -0.79064248, -0.37085957,  1.05187055,\n",
       "        0.61419917,  0.83482371,  0.31844303, -0.77036887, -1.22831386,\n",
       "       -0.26233615, -0.42571757, -0.78110196,  0.44127724, -0.99218597,\n",
       "        0.5891553 ,  1.51816349, -0.65826775,  1.10076572,  1.62191665,\n",
       "        1.34166386,  0.88133374, -1.57654286,  1.33808616,  0.95527278,\n",
       "        0.47228393,  0.31367277,  1.4633055 ,  0.72033746,  0.77638802,\n",
       "       -1.08759118,  1.09480289,  0.7668475 , -0.57955846,  0.13478801,\n",
       "       -0.73101422, -0.56166998, -1.11382761,  1.16516423, -0.36847444,\n",
       "       -0.23132946,  0.78950623,  1.64219026,  0.71079694,  1.52054862,\n",
       "        1.37624825, -0.32792723,  0.77638802, -0.95402389,  0.93976943,\n",
       "        1.48477167, -0.73697705, -1.63140085,  1.29992408,  1.1114988 ,\n",
       "        0.91472557,  0.82170549,  0.08708541, -0.45314656, -1.37738449,\n",
       "       -0.56047742, -1.07566553,  1.35239695,  1.25102891,  1.59806535,\n",
       "        1.29515382,  1.74594342,  0.3196356 , -0.58552129,  0.36137538,\n",
       "        1.66365643,  0.08470028, -0.12280604, -1.45490122,  0.05965641,\n",
       "       -1.05539192, -1.00768932, -1.27363133,  1.54082223,  0.03341998,\n",
       "       -0.26949154,  0.5140237 , -0.50442686, -0.21344099,  0.92068839,\n",
       "        0.23019322, -1.25693542, -0.77036887, -1.26886107,  0.4460475 ,\n",
       "       -0.86577408, -1.57535029,  1.38340364, -0.83595995,  1.19617092,\n",
       "       -0.01547518,  1.18066758, -1.00768932, -0.17766403, -0.25637333,\n",
       "        0.00837612, -0.96833467,  1.49192706, -0.68092649, -1.54315103,\n",
       "        0.16698727, -1.17941869, -1.18895921, -0.32792723,  1.32496795,\n",
       "        0.57126683, -1.77212353,  0.82647575, -1.35949601, -0.58909898,\n",
       "       -0.91586181,  1.13057984,  1.12342445,  1.34047129, -1.00172649,\n",
       "        0.94215456,  0.09662593,  1.76740959, -0.55689972,  0.33036868,\n",
       "       -0.03097853, -0.48176813, -0.41498448,  0.3709159 ,  0.97912408,\n",
       "       -0.31719415, -1.52645512, -0.53424099, -0.48773095,  0.37568616,\n",
       "        1.13773523,  0.03938281,  0.73822594, -1.43582018, -0.35654879,\n",
       "       -1.63855624,  0.1932237 ,  1.59329509,  0.08350772, -1.14602687,\n",
       "       -0.20986329,  1.1627791 ,  0.08470028,  0.01195381, -0.51396738,\n",
       "        1.25699174, -0.96952724,  0.40192259,  0.32917612, -1.15198969,\n",
       "       -1.65048189,  1.50385271, -1.64451906,  1.48954193, -1.15556739,\n",
       "       -0.33150493, -0.55928485, -0.78706478, -0.96237185,  0.3947672 ,\n",
       "       -0.86100382,  1.47761628,  1.63145717,  1.20213375, -1.00888188,\n",
       "       -0.68688932,  1.48238654, -1.46682687,  1.18305271,  1.74832855,\n",
       "        0.07277463,  0.23019322,  0.41027054,  0.1693724 , -1.00768932,\n",
       "       -0.75605809,  0.66905716,  0.10258876,  1.22479248, -0.90632129,\n",
       "        0.93976943, -1.34757036,  0.81574267,  0.01076125,  0.49732779,\n",
       "       -0.83595995,  0.92903635, -1.41316144, -1.38334731, -1.78524174,\n",
       "       -0.10133987,  1.16158653,  0.32440586, -0.81449378,  1.42395085,\n",
       "       -0.61652798,  0.80739471,  1.24268096,  1.3130423 ,  0.44724006,\n",
       "        1.10911367, -1.22950642,  1.21882966, -0.28141719,  0.57007426,\n",
       "        1.37267055, -0.41259935, -0.78467965,  0.45678058, -1.51214434,\n",
       "        0.55337835, -1.32968189,  0.23257835, -1.17345586, -0.35058597,\n",
       "        0.84913449,  0.99581999, -1.27959415, -1.61231981, -1.13410122,\n",
       "        1.6815449 ,  0.940962  ,  0.58199991, -0.66065288, -0.77394657,\n",
       "       -0.84192277, -0.10133987, -1.22592873, -0.24325511, -0.03813392,\n",
       "       -1.52884025,  1.38221107, -0.09299191, -1.1448343 ,  1.2653397 ,\n",
       "       -1.34876293, -0.5235079 ,  0.95169508,  1.47880884, -1.28436441,\n",
       "       -0.49727147, -1.1961146 , -0.63560902,  1.18066758,  1.43349137,\n",
       "        1.50266014,  1.72805494, -1.57177259,  1.62430178, -0.51993021,\n",
       "        1.609991  ,  0.45558802, -0.44360604,  1.62310922, -0.03574879,\n",
       "        1.30350178, -0.95998672, -0.72862909, -0.49250121,  0.32440586,\n",
       "       -0.80256813, -1.10428709, -0.61772054,  0.6165843 , -1.29032724,\n",
       "       -0.10491756, -0.56166998,  0.15863931, -1.56938746,  0.89445196,\n",
       "        1.64815308, -1.53718821, -1.72919118,  0.69648616, -0.82164917,\n",
       "       -0.55212946,  0.05488615, -0.5783659 ,  1.41441033, -1.13171609,\n",
       "        0.67859768, -1.05539192,  0.61539173, -1.40839118,  0.23615604,\n",
       "       -0.99695623,  0.9648133 ,  1.49908245,  1.62787948, -1.65405958,\n",
       "       -0.00593466, -0.59506181, -1.0184224 ,  0.9373843 , -0.62964619,\n",
       "        1.61237613,  0.65713151,  0.69529359, -0.78110196, -0.37562983,\n",
       "       -0.88127742, -1.27363133,  0.17414266, -1.42508709,  0.98389434,\n",
       "       -0.75367296,  0.31725047, -0.56524768, -0.02620827, -0.38278522,\n",
       "        1.74475085, -1.70056962, -0.38755549,  1.2140594 , -0.36608931,\n",
       "        0.18726088, -1.68148858,  0.20753448,  0.03938281, -0.3255421 ,\n",
       "       -0.47461273, -0.3493934 , -0.04648188,  1.51577836,  0.43054415,\n",
       "       -1.69579936, -0.99576367,  1.21644453,  1.12700215,  1.24148839,\n",
       "        0.43769954, -1.38931014,  1.0125159 , -1.73157631,  1.69943338,\n",
       "        0.66190177, -1.0971317 , -0.41379192,  0.62135456, -1.32610419,\n",
       "        1.16158653,  1.62549435,  0.38284155, -0.85623356,  1.4358765 ,\n",
       "       -1.47398226,  1.74713598, -1.51572204,  0.68933077, -1.78285661,\n",
       "       -0.76917631, -0.06079266, -0.62726106, -0.91109155,  0.3160579 ,\n",
       "        1.4322988 , -1.29986776, -1.69818449, -1.45013096, -0.15262017,\n",
       "        0.72391516,  0.31128764,  1.61118356, -1.53122538, -0.81210865,\n",
       "       -0.85027073, -0.9707198 ,  0.45201032, -1.53599564, -1.1686856 ,\n",
       "        0.90518505, -0.39828857,  0.1693724 ,  1.72566981, -0.04767444,\n",
       "        0.69767872, -0.05005957,  1.09957315,  1.02205642, -0.38397779,\n",
       "        0.17414266, -0.84073021,  0.22542296,  0.75730698, -0.46149452,\n",
       "        0.88371887, -0.34820084, -1.70414732, -0.80733839, -0.96237185,\n",
       "       -0.8955882 , -1.11859787, -1.1245607 ,  0.09304824,  1.31423486,\n",
       "       -1.28436441, -1.120983  , -0.66065288, -0.21105586, -0.6737711 ,\n",
       "        0.14671366, -1.67194806,  0.15029136,  1.56109583, -0.40663653,\n",
       "        0.7191449 ,  0.25165939, -0.67973393, -0.71312575,  0.72868542,\n",
       "       -0.13711682, -0.53781868, -0.8478856 , -0.01428262,  1.30230921,\n",
       "       -0.67138597, -0.54139638,  0.84317166, -1.47994508,  0.39357463,\n",
       "       -1.36784397, -1.42270196, -0.86577408,  1.5110081 ,  0.15267649,\n",
       "        1.22837018, -0.65826775,  0.21349731, -0.76082835,  0.28862891,\n",
       "       -0.96714211, -0.12042091,  0.60346608, -0.99099341,  0.87894861,\n",
       "       -0.49607891, -0.59625437, -0.30288337, -0.745325  , -1.22473616,\n",
       "        0.82051293, -1.35830345,  0.16698727, -1.17822612,  1.61356869,\n",
       "        0.57842222, -1.40123579,  1.22359992, -1.40123579, -1.12813839,\n",
       "       -0.90632129,  0.2683553 ,  0.71795233,  0.01314638, -0.8753146 ,\n",
       "        1.62787948,  1.70301107, -0.58432872,  1.09003263, -1.21161795,\n",
       "        1.20213375,  1.00178282,  1.07452929,  1.48238654, -1.02796293,\n",
       "        0.26119991,  0.99701256, -0.69881497,  0.54383783, -1.10070939,\n",
       "       -1.75781275,  1.71851442,  1.2653397 ,  1.10076572, -1.74946479,\n",
       "       -0.22894433,  0.44724006,  0.02387946,  0.82647575,  1.50385271,\n",
       "       -1.00053393, -1.64571163, -1.51810717,  0.6130066 , -0.04767444,\n",
       "       -0.451954  , -0.10253243, -0.73220679,  0.51879396, -1.77808635,\n",
       "        0.88014118,  1.75190624,  0.20872705, -1.03273319,  0.7632698 ,\n",
       "        1.33212334,  1.32139025,  0.22542296,  0.21588244,  0.16579471,\n",
       "       -0.72743653,  1.63026461, -1.10309452, -0.16573838,  0.44843263,\n",
       "       -0.84192277, -0.31123132,  0.25046682,  0.77638802, -0.12280604,\n",
       "       -0.71312575, -0.4758053 , -1.16987817,  0.65951664,  0.54622296,\n",
       "       -0.57955846, -0.79064248, -0.28260976, -0.60937259,  1.70420364,\n",
       "        0.28266608,  0.19560883, -0.48892352,  1.48596423,  0.0191092 ,\n",
       "       -0.24683281, -1.4179317 , -0.50561943, -0.36012649, -0.61175772,\n",
       "        0.88014118, -0.32315697, -1.53957334, -1.62186033,  0.28266608,\n",
       "        0.565304  ,  0.87417835, -0.98622315,  0.7668475 , -1.13052352,\n",
       "        1.71851442,  0.95408021,  1.54082223,  1.69108542, -0.45553169,\n",
       "       -0.02501571, -0.29811311, -1.13887148,  0.66547947,  0.39715233,\n",
       "        0.44008467, -0.36131905, -1.6397488 ,  0.73107055, -1.3189488 ,\n",
       "       -0.60102463,  0.03222742,  1.12223189, -1.36188114,  0.62373969,\n",
       "        0.32321329, -1.48352278,  1.11746163,  0.26597017,  0.23973374,\n",
       "       -1.47875252,  0.5450304 , -0.51515995,  0.59750326, -0.47699786,\n",
       "       -0.08822165, -1.50141126, -1.55388412,  1.19617092, -1.31060085,\n",
       "       -1.13648635, -1.66002241, -0.63918671,  1.35120438,  0.41742593,\n",
       "        0.67024973, -1.01722984,  1.15800884,  1.00536051,  1.59090996,\n",
       "        1.19497836,  0.43412184,  1.61595382, -0.54855177,  0.70244898,\n",
       "       -0.57359564,  0.54026014,  0.07754489,  0.88848913, -1.16987817,\n",
       "       -0.02263058,  1.14966088, -0.55570716,  0.7155672 ,  0.70364155,\n",
       "        0.72749285, -1.27005363, -1.13290865,  1.07214415, -0.84907817,\n",
       "       -1.09474657, -0.59148411,  0.0942408 , -0.28499489,  0.83005345,\n",
       "        0.69767872,  1.38101851,  0.89683709,  1.36551516, -0.66423058,\n",
       "       -0.86577408,  0.01314638,  0.14075084,  1.38101851,  0.93142148,\n",
       "        0.13478801,  0.55218579, -0.05125214,  0.55457092, -0.8955882 ,\n",
       "       -0.2301369 ,  1.23194787, -1.48829304,  1.06260363])"
      ]
     },
     "execution_count": 61,
     "metadata": {},
     "output_type": "execute_result"
    }
   ],
   "source": [
    "cal_outlier"
   ]
  },
  {
   "cell_type": "code",
   "execution_count": 62,
   "metadata": {},
   "outputs": [
    {
     "data": {
      "image/png": "[encoded data removed]",
      "text/plain": [
       "<Figure size 432x288 with 1 Axes>"
      ]
     },
     "metadata": {
      "needs_background": "light"
     },
     "output_type": "display_data"
    }
   ],
   "source": [
    "plt.boxplot(visit_data['visit']);"
   ]
  },
  {
   "cell_type": "code",
   "execution_count": 63,
   "metadata": {},
   "outputs": [],
   "source": [
    "visit_data['visit'] = visit_data['visit'][(cal_outlier <3)]"
   ]
  },
  {
   "cell_type": "code",
   "execution_count": 64,
   "metadata": {},
   "outputs": [
    {
     "data": {
      "text/plain": [
       "974"
      ]
     },
     "execution_count": 64,
     "metadata": {},
     "output_type": "execute_result"
    }
   ],
   "source": [
    "len(visit_data['visit'])"
   ]
  },
  {
   "cell_type": "code",
   "execution_count": 65,
   "metadata": {},
   "outputs": [
    {
     "data": {
      "text/html": [
       "<div>\n",
       "<style scoped>\n",
       "    .dataframe tbody tr th:only-of-type {\n",
       "        vertical-align: middle;\n",
       "    }\n",
       "\n",
       "    .dataframe tbody tr th {\n",
       "        vertical-align: top;\n",
       "    }\n",
       "\n",
       "    .dataframe thead th {\n",
       "        text-align: right;\n",
       "    }\n",
       "</style>\n",
       "<table border=\"1\" class=\"dataframe\">\n",
       "  <thead>\n",
       "    <tr style=\"text-align: right;\">\n",
       "      <th></th>\n",
       "      <th>id</th>\n",
       "      <th>first_name</th>\n",
       "      <th>last_name</th>\n",
       "      <th>email</th>\n",
       "      <th>gender</th>\n",
       "      <th>ip_address</th>\n",
       "      <th>visit</th>\n",
       "    </tr>\n",
       "  </thead>\n",
       "  <tbody>\n",
       "    <tr>\n",
       "      <th>0</th>\n",
       "      <td>1</td>\n",
       "      <td>Sonny</td>\n",
       "      <td>Dahl</td>\n",
       "      <td>sdahl0@mysql.com</td>\n",
       "      <td>Male</td>\n",
       "      <td>135.36.96.183</td>\n",
       "      <td>1225.0</td>\n",
       "    </tr>\n",
       "    <tr>\n",
       "      <th>1</th>\n",
       "      <td>2</td>\n",
       "      <td>NaN</td>\n",
       "      <td>NaN</td>\n",
       "      <td>dhoovart1@hud.gov</td>\n",
       "      <td>NaN</td>\n",
       "      <td>237.165.194.143</td>\n",
       "      <td>919.0</td>\n",
       "    </tr>\n",
       "    <tr>\n",
       "      <th>2</th>\n",
       "      <td>3</td>\n",
       "      <td>Gar</td>\n",
       "      <td>Armal</td>\n",
       "      <td>garmal2@technorati.com</td>\n",
       "      <td>NaN</td>\n",
       "      <td>166.43.137.224</td>\n",
       "      <td>271.0</td>\n",
       "    </tr>\n",
       "    <tr>\n",
       "      <th>3</th>\n",
       "      <td>4</td>\n",
       "      <td>Chiarra</td>\n",
       "      <td>Nulty</td>\n",
       "      <td>cnulty3@newyorker.com</td>\n",
       "      <td>NaN</td>\n",
       "      <td>139.98.137.108</td>\n",
       "      <td>1002.0</td>\n",
       "    </tr>\n",
       "    <tr>\n",
       "      <th>4</th>\n",
       "      <td>5</td>\n",
       "      <td>NaN</td>\n",
       "      <td>NaN</td>\n",
       "      <td>sleaver4@elegantthemes.com</td>\n",
       "      <td>NaN</td>\n",
       "      <td>46.117.117.27</td>\n",
       "      <td>2434.0</td>\n",
       "    </tr>\n",
       "    <tr>\n",
       "      <th>...</th>\n",
       "      <td>...</td>\n",
       "      <td>...</td>\n",
       "      <td>...</td>\n",
       "      <td>...</td>\n",
       "      <td>...</td>\n",
       "      <td>...</td>\n",
       "      <td>...</td>\n",
       "    </tr>\n",
       "    <tr>\n",
       "      <th>994</th>\n",
       "      <td>995</td>\n",
       "      <td>NaN</td>\n",
       "      <td>NaN</td>\n",
       "      <td>hlowethrm@army.mil</td>\n",
       "      <td>Female</td>\n",
       "      <td>104.234.36.172</td>\n",
       "      <td>747.0</td>\n",
       "    </tr>\n",
       "    <tr>\n",
       "      <th>995</th>\n",
       "      <td>996</td>\n",
       "      <td>Averil</td>\n",
       "      <td>Pickover</td>\n",
       "      <td>apickoverrn@vk.com</td>\n",
       "      <td>Male</td>\n",
       "      <td>10.45.16.167</td>\n",
       "      <td>1305.0</td>\n",
       "    </tr>\n",
       "    <tr>\n",
       "      <th>996</th>\n",
       "      <td>997</td>\n",
       "      <td>Walton</td>\n",
       "      <td>Hallewell</td>\n",
       "      <td>whallewellro@nasa.gov</td>\n",
       "      <td>NaN</td>\n",
       "      <td>231.224.238.232</td>\n",
       "      <td>2531.0</td>\n",
       "    </tr>\n",
       "    <tr>\n",
       "      <th>998</th>\n",
       "      <td>999</td>\n",
       "      <td>Sapphira</td>\n",
       "      <td>Terron</td>\n",
       "      <td>sterronrq@wordpress.org</td>\n",
       "      <td>NaN</td>\n",
       "      <td>24.77.234.208</td>\n",
       "      <td>250.0</td>\n",
       "    </tr>\n",
       "    <tr>\n",
       "      <th>999</th>\n",
       "      <td>1000</td>\n",
       "      <td>NaN</td>\n",
       "      <td>NaN</td>\n",
       "      <td>jandreuzzirr@paginegialle.it</td>\n",
       "      <td>Male</td>\n",
       "      <td>211.136.66.144</td>\n",
       "      <td>2389.0</td>\n",
       "    </tr>\n",
       "  </tbody>\n",
       "</table>\n",
       "<p>974 rows × 7 columns</p>\n",
       "</div>"
      ],
      "text/plain": [
       "       id first_name  last_name                         email  gender  \\\n",
       "0       1      Sonny       Dahl              sdahl0@mysql.com    Male   \n",
       "1       2        NaN        NaN             dhoovart1@hud.gov     NaN   \n",
       "2       3        Gar      Armal        garmal2@technorati.com     NaN   \n",
       "3       4    Chiarra      Nulty         cnulty3@newyorker.com     NaN   \n",
       "4       5        NaN        NaN    sleaver4@elegantthemes.com     NaN   \n",
       "..    ...        ...        ...                           ...     ...   \n",
       "994   995        NaN        NaN            hlowethrm@army.mil  Female   \n",
       "995   996     Averil   Pickover            apickoverrn@vk.com    Male   \n",
       "996   997     Walton  Hallewell         whallewellro@nasa.gov     NaN   \n",
       "998   999   Sapphira     Terron       sterronrq@wordpress.org     NaN   \n",
       "999  1000        NaN        NaN  jandreuzzirr@paginegialle.it    Male   \n",
       "\n",
       "          ip_address   visit  \n",
       "0      135.36.96.183  1225.0  \n",
       "1    237.165.194.143   919.0  \n",
       "2     166.43.137.224   271.0  \n",
       "3     139.98.137.108  1002.0  \n",
       "4      46.117.117.27  2434.0  \n",
       "..               ...     ...  \n",
       "994   104.234.36.172   747.0  \n",
       "995     10.45.16.167  1305.0  \n",
       "996  231.224.238.232  2531.0  \n",
       "998    24.77.234.208   250.0  \n",
       "999   211.136.66.144  2389.0  \n",
       "\n",
       "[974 rows x 7 columns]"
      ]
     },
     "execution_count": 65,
     "metadata": {},
     "output_type": "execute_result"
    }
   ],
   "source": [
    "visit_data"
   ]
  },
  {
   "cell_type": "code",
   "execution_count": null,
   "metadata": {},
   "outputs": [],
   "source": []
  }
 ],
 "metadata": {
  "kernelspec": {
   "display_name": "Python 3",
   "language": "python",
   "name": "python3"
  },
  "language_info": {
   "codemirror_mode": {
    "name": "ipython",
    "version": 3
   },
   "file_extension": ".py",
   "mimetype": "text/x-python",
   "name": "python",
   "nbconvert_exporter": "python",
   "pygments_lexer": "ipython3",
   "version": "3.7.0"
  }
 },
 "nbformat": 4,
 "nbformat_minor": 2
}
